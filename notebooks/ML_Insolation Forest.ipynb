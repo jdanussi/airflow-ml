{
 "cells": [
  {
   "cell_type": "markdown",
   "id": "e52b705b",
   "metadata": {},
   "source": [
    "# Insolation Forest"
   ]
  },
  {
   "cell_type": "code",
   "execution_count": 1,
   "id": "3957809a",
   "metadata": {},
   "outputs": [],
   "source": [
    "import numpy as np\n",
    "import pandas as pd\n",
    "\n",
    "import warnings\n",
    "warnings.filterwarnings('ignore')"
   ]
  },
  {
   "cell_type": "code",
   "execution_count": 2,
   "id": "f96d9f6c",
   "metadata": {},
   "outputs": [
    {
     "data": {
      "text/plain": [
       "(7213446, 27)"
      ]
     },
     "execution_count": 2,
     "metadata": {},
     "output_type": "execute_result"
    }
   ],
   "source": [
    "csv_file = 'data/01_bronze/2018.csv'\n",
    "df = pd.read_csv(csv_file, sep=',',index_col=0)\n",
    "df.shape"
   ]
  },
  {
   "cell_type": "markdown",
   "id": "bbe25a9d",
   "metadata": {},
   "source": [
    "# EDA"
   ]
  },
  {
   "cell_type": "code",
   "execution_count": 3,
   "id": "62b5ff4b",
   "metadata": {},
   "outputs": [
    {
     "data": {
      "text/plain": [
       "(7096212, 27)"
      ]
     },
     "execution_count": 3,
     "metadata": {},
     "output_type": "execute_result"
    }
   ],
   "source": [
    "# Quitamos las rows sin valores registrados para DEP_DELAY\n",
    "df_dep_delay = df[df['DEP_DELAY'].notna()]\n",
    "df_dep_delay.shape"
   ]
  },
  {
   "cell_type": "code",
   "execution_count": 4,
   "id": "b2cef057",
   "metadata": {},
   "outputs": [
    {
     "name": "stdout",
     "output_type": "stream",
     "text": [
      "<class 'pandas.core.frame.DataFrame'>\n",
      "Index: 7096212 entries, 2018-01-01 to 2018-12-31\n",
      "Data columns (total 27 columns):\n",
      " #   Column               Dtype  \n",
      "---  ------               -----  \n",
      " 0   OP_CARRIER           object \n",
      " 1   OP_CARRIER_FL_NUM    int64  \n",
      " 2   ORIGIN               object \n",
      " 3   DEST                 object \n",
      " 4   CRS_DEP_TIME         int64  \n",
      " 5   DEP_TIME             float64\n",
      " 6   DEP_DELAY            float64\n",
      " 7   TAXI_OUT             float64\n",
      " 8   WHEELS_OFF           float64\n",
      " 9   WHEELS_ON            float64\n",
      " 10  TAXI_IN              float64\n",
      " 11  CRS_ARR_TIME         int64  \n",
      " 12  ARR_TIME             float64\n",
      " 13  ARR_DELAY            float64\n",
      " 14  CANCELLED            float64\n",
      " 15  CANCELLATION_CODE    object \n",
      " 16  DIVERTED             float64\n",
      " 17  CRS_ELAPSED_TIME     float64\n",
      " 18  ACTUAL_ELAPSED_TIME  float64\n",
      " 19  AIR_TIME             float64\n",
      " 20  DISTANCE             float64\n",
      " 21  CARRIER_DELAY        float64\n",
      " 22  WEATHER_DELAY        float64\n",
      " 23  NAS_DELAY            float64\n",
      " 24  SECURITY_DELAY       float64\n",
      " 25  LATE_AIRCRAFT_DELAY  float64\n",
      " 26  Unnamed: 27          float64\n",
      "dtypes: float64(20), int64(3), object(4)\n",
      "memory usage: 1.5+ GB\n",
      "None\n"
     ]
    },
    {
     "data": {
      "text/html": [
       "<div>\n",
       "<style scoped>\n",
       "    .dataframe tbody tr th:only-of-type {\n",
       "        vertical-align: middle;\n",
       "    }\n",
       "\n",
       "    .dataframe tbody tr th {\n",
       "        vertical-align: top;\n",
       "    }\n",
       "\n",
       "    .dataframe thead th {\n",
       "        text-align: right;\n",
       "    }\n",
       "</style>\n",
       "<table border=\"1\" class=\"dataframe\">\n",
       "  <thead>\n",
       "    <tr style=\"text-align: right;\">\n",
       "      <th></th>\n",
       "      <th>OP_CARRIER</th>\n",
       "      <th>OP_CARRIER_FL_NUM</th>\n",
       "      <th>ORIGIN</th>\n",
       "      <th>DEST</th>\n",
       "      <th>CRS_DEP_TIME</th>\n",
       "      <th>DEP_TIME</th>\n",
       "      <th>DEP_DELAY</th>\n",
       "      <th>TAXI_OUT</th>\n",
       "      <th>WHEELS_OFF</th>\n",
       "      <th>WHEELS_ON</th>\n",
       "      <th>...</th>\n",
       "      <th>CRS_ELAPSED_TIME</th>\n",
       "      <th>ACTUAL_ELAPSED_TIME</th>\n",
       "      <th>AIR_TIME</th>\n",
       "      <th>DISTANCE</th>\n",
       "      <th>CARRIER_DELAY</th>\n",
       "      <th>WEATHER_DELAY</th>\n",
       "      <th>NAS_DELAY</th>\n",
       "      <th>SECURITY_DELAY</th>\n",
       "      <th>LATE_AIRCRAFT_DELAY</th>\n",
       "      <th>Unnamed: 27</th>\n",
       "    </tr>\n",
       "    <tr>\n",
       "      <th>FL_DATE</th>\n",
       "      <th></th>\n",
       "      <th></th>\n",
       "      <th></th>\n",
       "      <th></th>\n",
       "      <th></th>\n",
       "      <th></th>\n",
       "      <th></th>\n",
       "      <th></th>\n",
       "      <th></th>\n",
       "      <th></th>\n",
       "      <th></th>\n",
       "      <th></th>\n",
       "      <th></th>\n",
       "      <th></th>\n",
       "      <th></th>\n",
       "      <th></th>\n",
       "      <th></th>\n",
       "      <th></th>\n",
       "      <th></th>\n",
       "      <th></th>\n",
       "      <th></th>\n",
       "    </tr>\n",
       "  </thead>\n",
       "  <tbody>\n",
       "    <tr>\n",
       "      <th>2018-01-01</th>\n",
       "      <td>UA</td>\n",
       "      <td>2429</td>\n",
       "      <td>EWR</td>\n",
       "      <td>DEN</td>\n",
       "      <td>1517</td>\n",
       "      <td>1512.0</td>\n",
       "      <td>-5.0</td>\n",
       "      <td>15.0</td>\n",
       "      <td>1527.0</td>\n",
       "      <td>1712.0</td>\n",
       "      <td>...</td>\n",
       "      <td>268.0</td>\n",
       "      <td>250.0</td>\n",
       "      <td>225.0</td>\n",
       "      <td>1605.0</td>\n",
       "      <td>NaN</td>\n",
       "      <td>NaN</td>\n",
       "      <td>NaN</td>\n",
       "      <td>NaN</td>\n",
       "      <td>NaN</td>\n",
       "      <td>NaN</td>\n",
       "    </tr>\n",
       "    <tr>\n",
       "      <th>2018-01-01</th>\n",
       "      <td>UA</td>\n",
       "      <td>2427</td>\n",
       "      <td>LAS</td>\n",
       "      <td>SFO</td>\n",
       "      <td>1115</td>\n",
       "      <td>1107.0</td>\n",
       "      <td>-8.0</td>\n",
       "      <td>11.0</td>\n",
       "      <td>1118.0</td>\n",
       "      <td>1223.0</td>\n",
       "      <td>...</td>\n",
       "      <td>99.0</td>\n",
       "      <td>83.0</td>\n",
       "      <td>65.0</td>\n",
       "      <td>414.0</td>\n",
       "      <td>NaN</td>\n",
       "      <td>NaN</td>\n",
       "      <td>NaN</td>\n",
       "      <td>NaN</td>\n",
       "      <td>NaN</td>\n",
       "      <td>NaN</td>\n",
       "    </tr>\n",
       "    <tr>\n",
       "      <th>2018-01-01</th>\n",
       "      <td>UA</td>\n",
       "      <td>2426</td>\n",
       "      <td>SNA</td>\n",
       "      <td>DEN</td>\n",
       "      <td>1335</td>\n",
       "      <td>1330.0</td>\n",
       "      <td>-5.0</td>\n",
       "      <td>15.0</td>\n",
       "      <td>1345.0</td>\n",
       "      <td>1631.0</td>\n",
       "      <td>...</td>\n",
       "      <td>134.0</td>\n",
       "      <td>126.0</td>\n",
       "      <td>106.0</td>\n",
       "      <td>846.0</td>\n",
       "      <td>NaN</td>\n",
       "      <td>NaN</td>\n",
       "      <td>NaN</td>\n",
       "      <td>NaN</td>\n",
       "      <td>NaN</td>\n",
       "      <td>NaN</td>\n",
       "    </tr>\n",
       "    <tr>\n",
       "      <th>2018-01-01</th>\n",
       "      <td>UA</td>\n",
       "      <td>2425</td>\n",
       "      <td>RSW</td>\n",
       "      <td>ORD</td>\n",
       "      <td>1546</td>\n",
       "      <td>1552.0</td>\n",
       "      <td>6.0</td>\n",
       "      <td>19.0</td>\n",
       "      <td>1611.0</td>\n",
       "      <td>1748.0</td>\n",
       "      <td>...</td>\n",
       "      <td>190.0</td>\n",
       "      <td>182.0</td>\n",
       "      <td>157.0</td>\n",
       "      <td>1120.0</td>\n",
       "      <td>NaN</td>\n",
       "      <td>NaN</td>\n",
       "      <td>NaN</td>\n",
       "      <td>NaN</td>\n",
       "      <td>NaN</td>\n",
       "      <td>NaN</td>\n",
       "    </tr>\n",
       "    <tr>\n",
       "      <th>2018-01-01</th>\n",
       "      <td>UA</td>\n",
       "      <td>2424</td>\n",
       "      <td>ORD</td>\n",
       "      <td>ALB</td>\n",
       "      <td>630</td>\n",
       "      <td>650.0</td>\n",
       "      <td>20.0</td>\n",
       "      <td>13.0</td>\n",
       "      <td>703.0</td>\n",
       "      <td>926.0</td>\n",
       "      <td>...</td>\n",
       "      <td>112.0</td>\n",
       "      <td>106.0</td>\n",
       "      <td>83.0</td>\n",
       "      <td>723.0</td>\n",
       "      <td>NaN</td>\n",
       "      <td>NaN</td>\n",
       "      <td>NaN</td>\n",
       "      <td>NaN</td>\n",
       "      <td>NaN</td>\n",
       "      <td>NaN</td>\n",
       "    </tr>\n",
       "  </tbody>\n",
       "</table>\n",
       "<p>5 rows × 27 columns</p>\n",
       "</div>"
      ],
      "text/plain": [
       "           OP_CARRIER  OP_CARRIER_FL_NUM ORIGIN DEST  CRS_DEP_TIME  DEP_TIME  \\\n",
       "FL_DATE                                                                        \n",
       "2018-01-01         UA               2429    EWR  DEN          1517    1512.0   \n",
       "2018-01-01         UA               2427    LAS  SFO          1115    1107.0   \n",
       "2018-01-01         UA               2426    SNA  DEN          1335    1330.0   \n",
       "2018-01-01         UA               2425    RSW  ORD          1546    1552.0   \n",
       "2018-01-01         UA               2424    ORD  ALB           630     650.0   \n",
       "\n",
       "            DEP_DELAY  TAXI_OUT  WHEELS_OFF  WHEELS_ON  ...  CRS_ELAPSED_TIME  \\\n",
       "FL_DATE                                                 ...                     \n",
       "2018-01-01       -5.0      15.0      1527.0     1712.0  ...             268.0   \n",
       "2018-01-01       -8.0      11.0      1118.0     1223.0  ...              99.0   \n",
       "2018-01-01       -5.0      15.0      1345.0     1631.0  ...             134.0   \n",
       "2018-01-01        6.0      19.0      1611.0     1748.0  ...             190.0   \n",
       "2018-01-01       20.0      13.0       703.0      926.0  ...             112.0   \n",
       "\n",
       "            ACTUAL_ELAPSED_TIME  AIR_TIME  DISTANCE  CARRIER_DELAY  \\\n",
       "FL_DATE                                                              \n",
       "2018-01-01                250.0     225.0    1605.0            NaN   \n",
       "2018-01-01                 83.0      65.0     414.0            NaN   \n",
       "2018-01-01                126.0     106.0     846.0            NaN   \n",
       "2018-01-01                182.0     157.0    1120.0            NaN   \n",
       "2018-01-01                106.0      83.0     723.0            NaN   \n",
       "\n",
       "           WEATHER_DELAY  NAS_DELAY  SECURITY_DELAY  LATE_AIRCRAFT_DELAY  \\\n",
       "FL_DATE                                                                    \n",
       "2018-01-01           NaN        NaN             NaN                  NaN   \n",
       "2018-01-01           NaN        NaN             NaN                  NaN   \n",
       "2018-01-01           NaN        NaN             NaN                  NaN   \n",
       "2018-01-01           NaN        NaN             NaN                  NaN   \n",
       "2018-01-01           NaN        NaN             NaN                  NaN   \n",
       "\n",
       "            Unnamed: 27  \n",
       "FL_DATE                  \n",
       "2018-01-01          NaN  \n",
       "2018-01-01          NaN  \n",
       "2018-01-01          NaN  \n",
       "2018-01-01          NaN  \n",
       "2018-01-01          NaN  \n",
       "\n",
       "[5 rows x 27 columns]"
      ]
     },
     "execution_count": 4,
     "metadata": {},
     "output_type": "execute_result"
    }
   ],
   "source": [
    "# Visualizamos información del dataset y las primeras líneas del dataframe\n",
    "print(df_dep_delay.info())\n",
    "df_dep_delay.head()"
   ]
  },
  {
   "cell_type": "code",
   "execution_count": 5,
   "id": "aec25d6b",
   "metadata": {},
   "outputs": [
    {
     "data": {
      "text/html": [
       "<div>\n",
       "<style scoped>\n",
       "    .dataframe tbody tr th:only-of-type {\n",
       "        vertical-align: middle;\n",
       "    }\n",
       "\n",
       "    .dataframe tbody tr th {\n",
       "        vertical-align: top;\n",
       "    }\n",
       "\n",
       "    .dataframe thead th {\n",
       "        text-align: right;\n",
       "    }\n",
       "</style>\n",
       "<table border=\"1\" class=\"dataframe\">\n",
       "  <thead>\n",
       "    <tr style=\"text-align: right;\">\n",
       "      <th></th>\n",
       "      <th></th>\n",
       "      <th>MEAN_DEP_DELAY</th>\n",
       "    </tr>\n",
       "    <tr>\n",
       "      <th>ORIGIN</th>\n",
       "      <th>FL_DATE</th>\n",
       "      <th></th>\n",
       "    </tr>\n",
       "  </thead>\n",
       "  <tbody>\n",
       "    <tr>\n",
       "      <th rowspan=\"5\" valign=\"top\">ABE</th>\n",
       "      <th>2018-01-01</th>\n",
       "      <td>7.833333</td>\n",
       "    </tr>\n",
       "    <tr>\n",
       "      <th>2018-01-02</th>\n",
       "      <td>77.375000</td>\n",
       "    </tr>\n",
       "    <tr>\n",
       "      <th>2018-01-03</th>\n",
       "      <td>51.333333</td>\n",
       "    </tr>\n",
       "    <tr>\n",
       "      <th>2018-01-04</th>\n",
       "      <td>30.125000</td>\n",
       "    </tr>\n",
       "    <tr>\n",
       "      <th>2018-01-05</th>\n",
       "      <td>17.375000</td>\n",
       "    </tr>\n",
       "    <tr>\n",
       "      <th>...</th>\n",
       "      <th>...</th>\n",
       "      <td>...</td>\n",
       "    </tr>\n",
       "    <tr>\n",
       "      <th rowspan=\"5\" valign=\"top\">YUM</th>\n",
       "      <th>2018-12-27</th>\n",
       "      <td>4.250000</td>\n",
       "    </tr>\n",
       "    <tr>\n",
       "      <th>2018-12-28</th>\n",
       "      <td>2.250000</td>\n",
       "    </tr>\n",
       "    <tr>\n",
       "      <th>2018-12-29</th>\n",
       "      <td>3.500000</td>\n",
       "    </tr>\n",
       "    <tr>\n",
       "      <th>2018-12-30</th>\n",
       "      <td>3.750000</td>\n",
       "    </tr>\n",
       "    <tr>\n",
       "      <th>2018-12-31</th>\n",
       "      <td>21.000000</td>\n",
       "    </tr>\n",
       "  </tbody>\n",
       "</table>\n",
       "<p>121465 rows × 1 columns</p>\n",
       "</div>"
      ],
      "text/plain": [
       "                   MEAN_DEP_DELAY\n",
       "ORIGIN FL_DATE                   \n",
       "ABE    2018-01-01        7.833333\n",
       "       2018-01-02       77.375000\n",
       "       2018-01-03       51.333333\n",
       "       2018-01-04       30.125000\n",
       "       2018-01-05       17.375000\n",
       "...                           ...\n",
       "YUM    2018-12-27        4.250000\n",
       "       2018-12-28        2.250000\n",
       "       2018-12-29        3.500000\n",
       "       2018-12-30        3.750000\n",
       "       2018-12-31       21.000000\n",
       "\n",
       "[121465 rows x 1 columns]"
      ]
     },
     "execution_count": 5,
     "metadata": {},
     "output_type": "execute_result"
    }
   ],
   "source": [
    "# Calculamos el promedio de demora en la partida de los vuelos por origen y dia\n",
    "df_mean_dep_delay = df_dep_delay.groupby([\"ORIGIN\", \"FL_DATE\"])[\"DEP_DELAY\"]\\\n",
    "    .mean()\\\n",
    "    .to_frame('MEAN_DEP_DELAY')\\\n",
    "\n",
    "df_mean_dep_delay"
   ]
  },
  {
   "cell_type": "code",
   "execution_count": 6,
   "id": "03e5c9e1",
   "metadata": {},
   "outputs": [
    {
     "name": "stdout",
     "output_type": "stream",
     "text": [
      "<class 'pandas.core.frame.DataFrame'>\n",
      "Index: 365 entries, 2018-01-01 to 2018-12-31\n",
      "Data columns (total 1 columns):\n",
      " #   Column          Non-Null Count  Dtype  \n",
      "---  ------          --------------  -----  \n",
      " 0   MEAN_DEP_DELAY  365 non-null    float64\n",
      "dtypes: float64(1)\n",
      "memory usage: 5.7+ KB\n",
      "None\n"
     ]
    },
    {
     "data": {
      "text/html": [
       "<div>\n",
       "<style scoped>\n",
       "    .dataframe tbody tr th:only-of-type {\n",
       "        vertical-align: middle;\n",
       "    }\n",
       "\n",
       "    .dataframe tbody tr th {\n",
       "        vertical-align: top;\n",
       "    }\n",
       "\n",
       "    .dataframe thead th {\n",
       "        text-align: right;\n",
       "    }\n",
       "</style>\n",
       "<table border=\"1\" class=\"dataframe\">\n",
       "  <thead>\n",
       "    <tr style=\"text-align: right;\">\n",
       "      <th></th>\n",
       "      <th>MEAN_DEP_DELAY</th>\n",
       "    </tr>\n",
       "    <tr>\n",
       "      <th>FL_DATE</th>\n",
       "      <th></th>\n",
       "    </tr>\n",
       "  </thead>\n",
       "  <tbody>\n",
       "    <tr>\n",
       "      <th>2018-01-01</th>\n",
       "      <td>18.311475</td>\n",
       "    </tr>\n",
       "    <tr>\n",
       "      <th>2018-01-02</th>\n",
       "      <td>18.047478</td>\n",
       "    </tr>\n",
       "    <tr>\n",
       "      <th>2018-01-03</th>\n",
       "      <td>10.893548</td>\n",
       "    </tr>\n",
       "    <tr>\n",
       "      <th>2018-01-04</th>\n",
       "      <td>71.066667</td>\n",
       "    </tr>\n",
       "    <tr>\n",
       "      <th>2018-01-05</th>\n",
       "      <td>154.356164</td>\n",
       "    </tr>\n",
       "  </tbody>\n",
       "</table>\n",
       "</div>"
      ],
      "text/plain": [
       "            MEAN_DEP_DELAY\n",
       "FL_DATE                   \n",
       "2018-01-01       18.311475\n",
       "2018-01-02       18.047478\n",
       "2018-01-03       10.893548\n",
       "2018-01-04       71.066667\n",
       "2018-01-05      154.356164"
      ]
     },
     "execution_count": 6,
     "metadata": {},
     "output_type": "execute_result"
    }
   ],
   "source": [
    "# Para el análisis que sigue, seleccionamos el aeropuerto de New York\n",
    "data = df_mean_dep_delay.loc['JFK',:]\n",
    "print(data.info())\n",
    "data.head()"
   ]
  },
  {
   "cell_type": "code",
   "execution_count": 7,
   "id": "a67246ce",
   "metadata": {},
   "outputs": [
    {
     "name": "stdout",
     "output_type": "stream",
     "text": [
      "<class 'pandas.core.frame.DataFrame'>\n",
      "DatetimeIndex: 365 entries, 2018-01-01 to 2018-12-31\n",
      "Data columns (total 1 columns):\n",
      " #   Column          Non-Null Count  Dtype  \n",
      "---  ------          --------------  -----  \n",
      " 0   MEAN_DEP_DELAY  365 non-null    float64\n",
      "dtypes: float64(1)\n",
      "memory usage: 5.7 KB\n"
     ]
    }
   ],
   "source": [
    "# Convertimos el índice a Datetime\n",
    "data.index = pd.to_datetime(data.index)\n",
    "data.info()"
   ]
  },
  {
   "cell_type": "code",
   "execution_count": 8,
   "id": "005cba46",
   "metadata": {},
   "outputs": [
    {
     "name": "stdout",
     "output_type": "stream",
     "text": [
      "<class 'pandas.core.frame.DataFrame'>\n",
      "DatetimeIndex: 365 entries, 2018-01-01 to 2018-12-31\n",
      "Freq: D\n",
      "Data columns (total 1 columns):\n",
      " #   Column          Non-Null Count  Dtype  \n",
      "---  ------          --------------  -----  \n",
      " 0   MEAN_DEP_DELAY  365 non-null    float64\n",
      "dtypes: float64(1)\n",
      "memory usage: 5.7 KB\n"
     ]
    }
   ],
   "source": [
    "# Actualizamos el dataset con la frecuencia que se infiere de los datos -  Freq: D -\n",
    "data = data.asfreq(pd.infer_freq(data.index))\n",
    "data.info()"
   ]
  },
  {
   "cell_type": "code",
   "execution_count": 9,
   "id": "660793d1",
   "metadata": {},
   "outputs": [],
   "source": [
    "import matplotlib.pyplot as plt\n",
    "import seaborn as sns\n",
    "sns.set(style=\"whitegrid\")\n",
    "\n",
    "from sklearn.preprocessing import StandardScaler\n",
    "from sklearn.ensemble import IsolationForest"
   ]
  },
  {
   "cell_type": "code",
   "execution_count": 10,
   "id": "0807b528",
   "metadata": {},
   "outputs": [
    {
     "data": {
      "text/plain": [
       "<AxesSubplot:xlabel='FL_DATE'>"
      ]
     },
     "execution_count": 10,
     "metadata": {},
     "output_type": "execute_result"
    },
    {
     "data": {
      "image/png": "[encoded data removed]",
      "text/plain": [
       "<Figure size 1152x432 with 1 Axes>"
      ]
     },
     "metadata": {},
     "output_type": "display_data"
    }
   ],
   "source": [
    "# Graficamos la serie temporal\n",
    "plt.rc('figure',figsize=(16,6))\n",
    "plt.rc('font',size=15)\n",
    "data.plot()"
   ]
  },
  {
   "cell_type": "code",
   "execution_count": 20,
   "id": "5a64e6b0",
   "metadata": {},
   "outputs": [],
   "source": [
    "# Establecemos el hiperparámetro del modelo outliers_fraction en un 12%\n",
    "outliers_fraction = float(.012)\n",
    "\n",
    "# Normalizamos los datos\n",
    "scaler = StandardScaler()\n",
    "np_scaled = scaler.fit_transform(data.values.reshape(-1, 1))"
   ]
  },
  {
   "cell_type": "code",
   "execution_count": 19,
   "id": "847dcc9b",
   "metadata": {},
   "outputs": [
    {
     "data": {
      "text/plain": [
       "IsolationForest(contamination=0.012, random_state=42)"
      ]
     },
     "execution_count": 19,
     "metadata": {},
     "output_type": "execute_result"
    }
   ],
   "source": [
    "# Entrenamos el modelo Isolation Forest\n",
    "model = IsolationForest(contamination=outliers_fraction, random_state=42)\n",
    "model.fit(data_scaled) "
   ]
  },
  {
   "cell_type": "code",
   "execution_count": 13,
   "id": "986083f0",
   "metadata": {},
   "outputs": [
    {
     "data": {
      "text/html": [
       "<div>\n",
       "<style scoped>\n",
       "    .dataframe tbody tr th:only-of-type {\n",
       "        vertical-align: middle;\n",
       "    }\n",
       "\n",
       "    .dataframe tbody tr th {\n",
       "        vertical-align: top;\n",
       "    }\n",
       "\n",
       "    .dataframe thead th {\n",
       "        text-align: right;\n",
       "    }\n",
       "</style>\n",
       "<table border=\"1\" class=\"dataframe\">\n",
       "  <thead>\n",
       "    <tr style=\"text-align: right;\">\n",
       "      <th></th>\n",
       "      <th>MEAN_DEP_DELAY</th>\n",
       "      <th>anomaly_scores</th>\n",
       "      <th>anomaly</th>\n",
       "    </tr>\n",
       "  </thead>\n",
       "  <tbody>\n",
       "    <tr>\n",
       "      <th>0</th>\n",
       "      <td>0.310792</td>\n",
       "      <td>0.210499</td>\n",
       "      <td>1</td>\n",
       "    </tr>\n",
       "    <tr>\n",
       "      <th>1</th>\n",
       "      <td>0.296878</td>\n",
       "      <td>0.212469</td>\n",
       "      <td>1</td>\n",
       "    </tr>\n",
       "    <tr>\n",
       "      <th>2</th>\n",
       "      <td>-0.080190</td>\n",
       "      <td>0.262026</td>\n",
       "      <td>1</td>\n",
       "    </tr>\n",
       "    <tr>\n",
       "      <th>3</th>\n",
       "      <td>3.091402</td>\n",
       "      <td>0.053871</td>\n",
       "      <td>1</td>\n",
       "    </tr>\n",
       "    <tr>\n",
       "      <th>4</th>\n",
       "      <td>7.481406</td>\n",
       "      <td>-0.135725</td>\n",
       "      <td>-1</td>\n",
       "    </tr>\n",
       "    <tr>\n",
       "      <th>...</th>\n",
       "      <td>...</td>\n",
       "      <td>...</td>\n",
       "      <td>...</td>\n",
       "    </tr>\n",
       "    <tr>\n",
       "      <th>360</th>\n",
       "      <td>-0.418738</td>\n",
       "      <td>0.305281</td>\n",
       "      <td>1</td>\n",
       "    </tr>\n",
       "    <tr>\n",
       "      <th>361</th>\n",
       "      <td>0.895556</td>\n",
       "      <td>0.181401</td>\n",
       "      <td>1</td>\n",
       "    </tr>\n",
       "    <tr>\n",
       "      <th>362</th>\n",
       "      <td>0.049209</td>\n",
       "      <td>0.240937</td>\n",
       "      <td>1</td>\n",
       "    </tr>\n",
       "    <tr>\n",
       "      <th>363</th>\n",
       "      <td>-0.229320</td>\n",
       "      <td>0.285967</td>\n",
       "      <td>1</td>\n",
       "    </tr>\n",
       "    <tr>\n",
       "      <th>364</th>\n",
       "      <td>-0.551830</td>\n",
       "      <td>0.306959</td>\n",
       "      <td>1</td>\n",
       "    </tr>\n",
       "  </tbody>\n",
       "</table>\n",
       "<p>365 rows × 3 columns</p>\n",
       "</div>"
      ],
      "text/plain": [
       "     MEAN_DEP_DELAY  anomaly_scores  anomaly\n",
       "0          0.310792        0.210499        1\n",
       "1          0.296878        0.212469        1\n",
       "2         -0.080190        0.262026        1\n",
       "3          3.091402        0.053871        1\n",
       "4          7.481406       -0.135725       -1\n",
       "..              ...             ...      ...\n",
       "360       -0.418738        0.305281        1\n",
       "361        0.895556        0.181401        1\n",
       "362        0.049209        0.240937        1\n",
       "363       -0.229320        0.285967        1\n",
       "364       -0.551830        0.306959        1\n",
       "\n",
       "[365 rows x 3 columns]"
      ]
     },
     "execution_count": 13,
     "metadata": {},
     "output_type": "execute_result"
    }
   ],
   "source": [
    "# Hacemos las predicciones del modelo sobre el dataset\n",
    "data_scaled['anomaly_scores'] = model.decision_function(data_scaled[['MEAN_DEP_DELAY']])\n",
    "data_scaled['anomaly'] = model.predict(data_scaled[['MEAN_DEP_DELAY']])\n",
    "data_scaled"
   ]
  },
  {
   "cell_type": "code",
   "execution_count": 14,
   "id": "e3e58b0c",
   "metadata": {},
   "outputs": [
    {
     "data": {
      "text/plain": [
       " 1    360\n",
       "-1      5\n",
       "Name: anomaly, dtype: int64"
      ]
     },
     "execution_count": 14,
     "metadata": {},
     "output_type": "execute_result"
    }
   ],
   "source": [
    "# Frecuencia de los valores normales y anómalos, segun los clasificó el modelo\n",
    "data_scaled['anomaly'].value_counts()"
   ]
  },
  {
   "cell_type": "code",
   "execution_count": 15,
   "id": "004052d6",
   "metadata": {},
   "outputs": [
    {
     "data": {
      "text/html": [
       "<div>\n",
       "<style scoped>\n",
       "    .dataframe tbody tr th:only-of-type {\n",
       "        vertical-align: middle;\n",
       "    }\n",
       "\n",
       "    .dataframe tbody tr th {\n",
       "        vertical-align: top;\n",
       "    }\n",
       "\n",
       "    .dataframe thead th {\n",
       "        text-align: right;\n",
       "    }\n",
       "</style>\n",
       "<table border=\"1\" class=\"dataframe\">\n",
       "  <thead>\n",
       "    <tr style=\"text-align: right;\">\n",
       "      <th></th>\n",
       "      <th>MEAN_DEP_DELAY</th>\n",
       "      <th>anomaly_scores</th>\n",
       "      <th>anomaly</th>\n",
       "    </tr>\n",
       "  </thead>\n",
       "  <tbody>\n",
       "    <tr>\n",
       "      <th>4</th>\n",
       "      <td>7.481406</td>\n",
       "      <td>-0.135725</td>\n",
       "      <td>-1</td>\n",
       "    </tr>\n",
       "    <tr>\n",
       "      <th>5</th>\n",
       "      <td>4.900605</td>\n",
       "      <td>-0.039802</td>\n",
       "      <td>-1</td>\n",
       "    </tr>\n",
       "    <tr>\n",
       "      <th>105</th>\n",
       "      <td>4.047553</td>\n",
       "      <td>-0.006301</td>\n",
       "      <td>-1</td>\n",
       "    </tr>\n",
       "    <tr>\n",
       "      <th>222</th>\n",
       "      <td>4.474395</td>\n",
       "      <td>-0.027306</td>\n",
       "      <td>-1</td>\n",
       "    </tr>\n",
       "    <tr>\n",
       "      <th>318</th>\n",
       "      <td>4.929109</td>\n",
       "      <td>-0.044860</td>\n",
       "      <td>-1</td>\n",
       "    </tr>\n",
       "  </tbody>\n",
       "</table>\n",
       "</div>"
      ],
      "text/plain": [
       "     MEAN_DEP_DELAY  anomaly_scores  anomaly\n",
       "4          7.481406       -0.135725       -1\n",
       "5          4.900605       -0.039802       -1\n",
       "105        4.047553       -0.006301       -1\n",
       "222        4.474395       -0.027306       -1\n",
       "318        4.929109       -0.044860       -1"
      ]
     },
     "execution_count": 15,
     "metadata": {},
     "output_type": "execute_result"
    }
   ],
   "source": [
    "# Visualizamos el subset de datos detectados como anómalos por el modelo\n",
    "data_scaled[data_scaled['anomaly']==-1]"
   ]
  },
  {
   "cell_type": "code",
   "execution_count": 16,
   "id": "e72d87b7",
   "metadata": {},
   "outputs": [
    {
     "data": {
      "image/png": "[encoded data removed]",
      "text/plain": [
       "<Figure size 1152x432 with 1 Axes>"
      ]
     },
     "metadata": {},
     "output_type": "display_data"
    }
   ],
   "source": [
    "# visualization\n",
    "fig, ax = plt.subplots(figsize=(16,6))\n",
    "\n",
    "a = data_scaled.loc[data_scaled['anomaly'] == -1, ['MEAN_DEP_DELAY']] #anomaly\n",
    "\n",
    "ax.plot(data_scaled.index, data_scaled['MEAN_DEP_DELAY'], color='black', label = 'Normal')\n",
    "ax.scatter(a.index,a['MEAN_DEP_DELAY'], color='red', label = 'Anomaly')\n",
    "plt.legend()\n",
    "plt.show();"
   ]
  },
  {
   "cell_type": "code",
   "execution_count": null,
   "id": "9ff6f421",
   "metadata": {},
   "outputs": [],
   "source": []
  }
 ],
 "metadata": {
  "kernelspec": {
   "display_name": "Python 3 (ipykernel)",
   "language": "python",
   "name": "python3"
  },
  "language_info": {
   "codemirror_mode": {
    "name": "ipython",
    "version": 3
   },
   "file_extension": ".py",
   "mimetype": "text/x-python",
   "name": "python",
   "nbconvert_exporter": "python",
   "pygments_lexer": "ipython3",
   "version": "3.9.7"
  }
 },
 "nbformat": 4,
 "nbformat_minor": 5
}
