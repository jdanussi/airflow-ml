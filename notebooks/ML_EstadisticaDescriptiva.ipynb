{
 "cells": [
  {
   "cell_type": "markdown",
   "id": "d9639bd5",
   "metadata": {},
   "source": [
    "# Estadistica descriptiva\n"
   ]
  },
  {
   "cell_type": "code",
   "execution_count": 1,
   "id": "264c856f",
   "metadata": {},
   "outputs": [],
   "source": [
    "import pandas as pd\n",
    "import numpy as np\n",
    "\n",
    "# Set to see all columns\n",
    "pd.set_option('display.max_columns', None)\n",
    "\n",
    "import warnings\n",
    "warnings.filterwarnings('ignore')"
   ]
  },
  {
   "cell_type": "code",
   "execution_count": 2,
   "id": "6b5d30c6",
   "metadata": {},
   "outputs": [
    {
     "data": {
      "text/plain": [
       "(7213446, 28)"
      ]
     },
     "execution_count": 2,
     "metadata": {},
     "output_type": "execute_result"
    }
   ],
   "source": [
    "csv_file = 'data/01_bronze/2018.csv'\n",
    "df = pd.read_csv(csv_file)\n",
    "df.shape"
   ]
  },
  {
   "cell_type": "markdown",
   "id": "3efb21c6",
   "metadata": {},
   "source": [
    "# EDA"
   ]
  },
  {
   "cell_type": "code",
   "execution_count": 3,
   "id": "35804776",
   "metadata": {},
   "outputs": [
    {
     "name": "stdout",
     "output_type": "stream",
     "text": [
      "<class 'pandas.core.series.Series'>\n",
      "RangeIndex: 7213446 entries, 0 to 7213445\n",
      "Series name: DEP_DELAY\n",
      "Non-Null Count    Dtype  \n",
      "--------------    -----  \n",
      "7096212 non-null  float64\n",
      "dtypes: float64(1)\n",
      "memory usage: 55.0 MB\n"
     ]
    },
    {
     "data": {
      "text/plain": [
       "117234"
      ]
     },
     "execution_count": 3,
     "metadata": {},
     "output_type": "execute_result"
    }
   ],
   "source": [
    "# Visualizamos informacion de la columna DEP_DELAY\n",
    "df.DEP_DELAY.info()\n",
    "\n",
    "# Contamos la cantidad de valores nulos\n",
    "df.DEP_DELAY.isna().sum()"
   ]
  },
  {
   "cell_type": "code",
   "execution_count": 4,
   "id": "25c5ee67",
   "metadata": {},
   "outputs": [
    {
     "data": {
      "text/plain": [
       "(7096212, 28)"
      ]
     },
     "execution_count": 4,
     "metadata": {},
     "output_type": "execute_result"
    }
   ],
   "source": [
    "# Nos quedamos con los DEP_DELAY que tienen datos\n",
    "df = df[df['DEP_DELAY'].notna()]\n",
    "df.shape"
   ]
  },
  {
   "cell_type": "code",
   "execution_count": 24,
   "id": "6c86b8de",
   "metadata": {},
   "outputs": [
    {
     "data": {
      "text/plain": [
       "array(['UA', 'AS', '9E', 'B6', 'EV', 'F9', 'G4', 'HA', 'MQ', 'NK', 'OH',\n",
       "       'OO', 'VX', 'WN', 'YV', 'YX', 'AA', 'DL'], dtype=object)"
      ]
     },
     "execution_count": 24,
     "metadata": {},
     "output_type": "execute_result"
    }
   ],
   "source": [
    "# Check unique values in OP_CARRIER (airline) column\n",
    "df.OP_CARRIER.unique()"
   ]
  },
  {
   "cell_type": "code",
   "execution_count": 10,
   "id": "320d786d",
   "metadata": {},
   "outputs": [],
   "source": [
    "# Renaming airline codes to company names\n",
    "# Source: https://en.wikipedia.org/wiki/List_of_airlines_of_the_United_States\n",
    "\n",
    "df['OP_CARRIER'].replace({\n",
    "    'UA':'United Airlines',\n",
    "    'AS':'Alaska Airlines',\n",
    "    '9E':'Endeavor Air',\n",
    "    'B6':'JetBlue Airways',\n",
    "    'EV':'ExpressJet',\n",
    "    'F9':'Frontier Airlines',\n",
    "    'G4':'Allegiant Air',\n",
    "    'HA':'Hawaiian Airlines',\n",
    "    'MQ':'Envoy Air',\n",
    "    'NK':'Spirit Airlines',\n",
    "    'OH':'PSA Airlines',\n",
    "    'OO':'SkyWest Airlines',\n",
    "    'VX':'Virgin America',\n",
    "    'WN':'Southwest Airlines',\n",
    "    'YV':'Mesa Airline',\n",
    "    'YX':'Republic Airways',\n",
    "    'AA':'American Airlines',\n",
    "    'DL':'Delta Airlines'\n",
    "},inplace=True)"
   ]
  },
  {
   "cell_type": "code",
   "execution_count": 20,
   "id": "d20b5693",
   "metadata": {
    "collapsed": true
   },
   "outputs": [
    {
     "data": {
      "text/plain": [
       "0    -5.0\n",
       "1    -8.0\n",
       "2    -5.0\n",
       "3     6.0\n",
       "4    20.0\n",
       "Name: DEP_DELAY, dtype: float64"
      ]
     },
     "execution_count": 20,
     "metadata": {},
     "output_type": "execute_result"
    }
   ],
   "source": [
    "# Departure delay data (in minutes)\n",
    "df.DEP_DELAY.head()"
   ]
  },
  {
   "cell_type": "code",
   "execution_count": 52,
   "id": "9e8e3f6d",
   "metadata": {},
   "outputs": [
    {
     "name": "stdout",
     "output_type": "stream",
     "text": [
      "% Departure delay only: 20.60811129228362\n",
      "% Arrival delay only: 23.052463579612752\n",
      "% Departure & Arrival (all) delayed: 55.95717207513737\n"
     ]
    }
   ],
   "source": [
    "# total de registros\n",
    "total = int(df.shape[0])\n",
    "total_delay = int(df[(df.DEP_DELAY > 0) | (df.ARR_DELAY > 0)].FL_DATE.count())\n",
    "\n",
    "# only departure delayed\n",
    "dep_delay_only = int(df[(df.DEP_DELAY > 0) & (df.ARR_DELAY <= 0)].FL_DATE.count())\n",
    "\n",
    "# only arribal delayed\n",
    "arr_delay_only = int(df[(df.DEP_DELAY <= 0) & (df.ARR_DELAY > 0)].FL_DATE.count())\n",
    "\n",
    "# departure and arribal delayed\n",
    "dep_arr_delay = int(df[(df.DEP_DELAY > 0) & (df.ARR_DELAY > 0)].FL_DATE.count())\n",
    "\n",
    "dep_delay = (dep_delay_only/total_delay) * 100\n",
    "arr_delay = (arr_delay_only/total_delay) * 100\n",
    "all_delay = (dep_arr_delay/total_delay) * 100\n",
    "\n",
    "print(f\"% Departure delay only: {dep_delay}\")\n",
    "print(f\"% Arrival delay only: {arr_delay}\")\n",
    "print(f\"% Departure & Arrival (all) delayed: {all_delay}\")\n"
   ]
  },
  {
   "cell_type": "code",
   "execution_count": 5,
   "id": "0c8ff4ab",
   "metadata": {},
   "outputs": [
    {
     "data": {
      "text/plain": [
       "(7096212, 28)"
      ]
     },
     "execution_count": 5,
     "metadata": {},
     "output_type": "execute_result"
    }
   ],
   "source": [
    "# Si queremos trabajar solo con valores positivos de DEP_DELAY\n",
    "#df_dep_delay = df[df['DEP_DELAY']>0]\n",
    "\n",
    "# Seguimos con el mismo dataset obtenido hasta ahora. Hacemos una copia\n",
    "df_dep_delay = df.copy()\n",
    "df_dep_delay.shape"
   ]
  },
  {
   "cell_type": "code",
   "execution_count": 6,
   "id": "5a9e81cb",
   "metadata": {},
   "outputs": [
    {
     "data": {
      "text/html": [
       "<div>\n",
       "<style scoped>\n",
       "    .dataframe tbody tr th:only-of-type {\n",
       "        vertical-align: middle;\n",
       "    }\n",
       "\n",
       "    .dataframe tbody tr th {\n",
       "        vertical-align: top;\n",
       "    }\n",
       "\n",
       "    .dataframe thead th {\n",
       "        text-align: right;\n",
       "    }\n",
       "</style>\n",
       "<table border=\"1\" class=\"dataframe\">\n",
       "  <thead>\n",
       "    <tr style=\"text-align: right;\">\n",
       "      <th></th>\n",
       "      <th>ORIGIN</th>\n",
       "      <th>FL_DATE</th>\n",
       "      <th>MEAN_DEP_DELAY</th>\n",
       "    </tr>\n",
       "  </thead>\n",
       "  <tbody>\n",
       "    <tr>\n",
       "      <th>0</th>\n",
       "      <td>ABE</td>\n",
       "      <td>2018-01-01</td>\n",
       "      <td>7.833333</td>\n",
       "    </tr>\n",
       "    <tr>\n",
       "      <th>1</th>\n",
       "      <td>ABE</td>\n",
       "      <td>2018-01-02</td>\n",
       "      <td>77.375000</td>\n",
       "    </tr>\n",
       "    <tr>\n",
       "      <th>2</th>\n",
       "      <td>ABE</td>\n",
       "      <td>2018-01-03</td>\n",
       "      <td>51.333333</td>\n",
       "    </tr>\n",
       "    <tr>\n",
       "      <th>3</th>\n",
       "      <td>ABE</td>\n",
       "      <td>2018-01-04</td>\n",
       "      <td>30.125000</td>\n",
       "    </tr>\n",
       "    <tr>\n",
       "      <th>4</th>\n",
       "      <td>ABE</td>\n",
       "      <td>2018-01-05</td>\n",
       "      <td>17.375000</td>\n",
       "    </tr>\n",
       "    <tr>\n",
       "      <th>...</th>\n",
       "      <td>...</td>\n",
       "      <td>...</td>\n",
       "      <td>...</td>\n",
       "    </tr>\n",
       "    <tr>\n",
       "      <th>121460</th>\n",
       "      <td>YUM</td>\n",
       "      <td>2018-12-27</td>\n",
       "      <td>4.250000</td>\n",
       "    </tr>\n",
       "    <tr>\n",
       "      <th>121461</th>\n",
       "      <td>YUM</td>\n",
       "      <td>2018-12-28</td>\n",
       "      <td>2.250000</td>\n",
       "    </tr>\n",
       "    <tr>\n",
       "      <th>121462</th>\n",
       "      <td>YUM</td>\n",
       "      <td>2018-12-29</td>\n",
       "      <td>3.500000</td>\n",
       "    </tr>\n",
       "    <tr>\n",
       "      <th>121463</th>\n",
       "      <td>YUM</td>\n",
       "      <td>2018-12-30</td>\n",
       "      <td>3.750000</td>\n",
       "    </tr>\n",
       "    <tr>\n",
       "      <th>121464</th>\n",
       "      <td>YUM</td>\n",
       "      <td>2018-12-31</td>\n",
       "      <td>21.000000</td>\n",
       "    </tr>\n",
       "  </tbody>\n",
       "</table>\n",
       "<p>121465 rows × 3 columns</p>\n",
       "</div>"
      ],
      "text/plain": [
       "       ORIGIN     FL_DATE  MEAN_DEP_DELAY\n",
       "0         ABE  2018-01-01        7.833333\n",
       "1         ABE  2018-01-02       77.375000\n",
       "2         ABE  2018-01-03       51.333333\n",
       "3         ABE  2018-01-04       30.125000\n",
       "4         ABE  2018-01-05       17.375000\n",
       "...       ...         ...             ...\n",
       "121460    YUM  2018-12-27        4.250000\n",
       "121461    YUM  2018-12-28        2.250000\n",
       "121462    YUM  2018-12-29        3.500000\n",
       "121463    YUM  2018-12-30        3.750000\n",
       "121464    YUM  2018-12-31       21.000000\n",
       "\n",
       "[121465 rows x 3 columns]"
      ]
     },
     "execution_count": 6,
     "metadata": {},
     "output_type": "execute_result"
    }
   ],
   "source": [
    "# Calculamos promedio de demora de partida por origen y dia (opcion 2)\n",
    "df_mean_dep_delay = df_dep_delay.groupby([\"ORIGIN\", \"FL_DATE\"])\\\n",
    "    .agg(MEAN_DEP_DELAY=('DEP_DELAY', 'mean'))\\\n",
    "    .reset_index()\n",
    "\n",
    "df_mean_dep_delay"
   ]
  },
  {
   "cell_type": "code",
   "execution_count": 7,
   "id": "1330adf4",
   "metadata": {},
   "outputs": [],
   "source": [
    "%matplotlib inline\n",
    "import matplotlib.pyplot as plt\n",
    "\n",
    "# runtime configuration (rc) containing the default styles for every plot element\n",
    "plt.rcParams['figure.figsize']=(16,6) "
   ]
  },
  {
   "cell_type": "markdown",
   "id": "a114d8c5",
   "metadata": {},
   "source": [
    "## Analizamos el ORIGIN = JFK"
   ]
  },
  {
   "cell_type": "code",
   "execution_count": 8,
   "id": "0e151075",
   "metadata": {},
   "outputs": [
    {
     "data": {
      "text/html": [
       "<div>\n",
       "<style scoped>\n",
       "    .dataframe tbody tr th:only-of-type {\n",
       "        vertical-align: middle;\n",
       "    }\n",
       "\n",
       "    .dataframe tbody tr th {\n",
       "        vertical-align: top;\n",
       "    }\n",
       "\n",
       "    .dataframe thead th {\n",
       "        text-align: right;\n",
       "    }\n",
       "</style>\n",
       "<table border=\"1\" class=\"dataframe\">\n",
       "  <thead>\n",
       "    <tr style=\"text-align: right;\">\n",
       "      <th></th>\n",
       "      <th>ORIGIN</th>\n",
       "      <th>FL_DATE</th>\n",
       "      <th>MEAN_DEP_DELAY</th>\n",
       "    </tr>\n",
       "  </thead>\n",
       "  <tbody>\n",
       "    <tr>\n",
       "      <th>59906</th>\n",
       "      <td>JFK</td>\n",
       "      <td>2018-01-01</td>\n",
       "      <td>18.311475</td>\n",
       "    </tr>\n",
       "    <tr>\n",
       "      <th>59907</th>\n",
       "      <td>JFK</td>\n",
       "      <td>2018-01-02</td>\n",
       "      <td>18.047478</td>\n",
       "    </tr>\n",
       "    <tr>\n",
       "      <th>59908</th>\n",
       "      <td>JFK</td>\n",
       "      <td>2018-01-03</td>\n",
       "      <td>10.893548</td>\n",
       "    </tr>\n",
       "    <tr>\n",
       "      <th>59909</th>\n",
       "      <td>JFK</td>\n",
       "      <td>2018-01-04</td>\n",
       "      <td>71.066667</td>\n",
       "    </tr>\n",
       "    <tr>\n",
       "      <th>59910</th>\n",
       "      <td>JFK</td>\n",
       "      <td>2018-01-05</td>\n",
       "      <td>154.356164</td>\n",
       "    </tr>\n",
       "    <tr>\n",
       "      <th>...</th>\n",
       "      <td>...</td>\n",
       "      <td>...</td>\n",
       "      <td>...</td>\n",
       "    </tr>\n",
       "    <tr>\n",
       "      <th>60266</th>\n",
       "      <td>JFK</td>\n",
       "      <td>2018-12-27</td>\n",
       "      <td>4.470430</td>\n",
       "    </tr>\n",
       "    <tr>\n",
       "      <th>60267</th>\n",
       "      <td>JFK</td>\n",
       "      <td>2018-12-28</td>\n",
       "      <td>29.405914</td>\n",
       "    </tr>\n",
       "    <tr>\n",
       "      <th>60268</th>\n",
       "      <td>JFK</td>\n",
       "      <td>2018-12-29</td>\n",
       "      <td>13.348571</td>\n",
       "    </tr>\n",
       "    <tr>\n",
       "      <th>60269</th>\n",
       "      <td>JFK</td>\n",
       "      <td>2018-12-30</td>\n",
       "      <td>8.064171</td>\n",
       "    </tr>\n",
       "    <tr>\n",
       "      <th>60270</th>\n",
       "      <td>JFK</td>\n",
       "      <td>2018-12-31</td>\n",
       "      <td>1.945338</td>\n",
       "    </tr>\n",
       "  </tbody>\n",
       "</table>\n",
       "<p>365 rows × 3 columns</p>\n",
       "</div>"
      ],
      "text/plain": [
       "      ORIGIN     FL_DATE  MEAN_DEP_DELAY\n",
       "59906    JFK  2018-01-01       18.311475\n",
       "59907    JFK  2018-01-02       18.047478\n",
       "59908    JFK  2018-01-03       10.893548\n",
       "59909    JFK  2018-01-04       71.066667\n",
       "59910    JFK  2018-01-05      154.356164\n",
       "...      ...         ...             ...\n",
       "60266    JFK  2018-12-27        4.470430\n",
       "60267    JFK  2018-12-28       29.405914\n",
       "60268    JFK  2018-12-29       13.348571\n",
       "60269    JFK  2018-12-30        8.064171\n",
       "60270    JFK  2018-12-31        1.945338\n",
       "\n",
       "[365 rows x 3 columns]"
      ]
     },
     "execution_count": 8,
     "metadata": {},
     "output_type": "execute_result"
    }
   ],
   "source": [
    "data = df_mean_dep_delay[df_mean_dep_delay['ORIGIN']=='JFK']\n",
    "\n",
    "# Metodo mas rebuscado pero se muestra como alternativa\n",
    "# En la nueva columna 'select', marcamos con -1 los registros que no son 'JFK'\n",
    "#df_mean_dep_delay['select'] = df_mean_dep_delay['ORIGIN'].apply(lambda x: x.find('JFK'))\n",
    "#data = df_mean_dep_delay[df_mean_dep_delay['select'] != -1].drop('select', axis=1)\n",
    "\n",
    "data"
   ]
  },
  {
   "cell_type": "code",
   "execution_count": 9,
   "id": "c06c590b",
   "metadata": {},
   "outputs": [
    {
     "data": {
      "text/plain": [
       "array([[<AxesSubplot:title={'center':'MEAN_DEP_DELAY'}>]], dtype=object)"
      ]
     },
     "execution_count": 9,
     "metadata": {},
     "output_type": "execute_result"
    },
    {
     "data": {
      "image/png": "[encoded data removed]",
      "text/plain": [
       "<Figure size 1152x432 with 1 Axes>"
      ]
     },
     "metadata": {
      "needs_background": "light"
     },
     "output_type": "display_data"
    }
   ],
   "source": [
    "# Histograma de la variable MEAN_DEP_DELAY\n",
    "data.hist()"
   ]
  },
  {
   "cell_type": "code",
   "execution_count": 10,
   "id": "41a4738e",
   "metadata": {},
   "outputs": [
    {
     "data": {
      "text/plain": [
       "<AxesSubplot:xlabel='FL_DATE'>"
      ]
     },
     "execution_count": 10,
     "metadata": {},
     "output_type": "execute_result"
    },
    {
     "data": {
      "image/png": "[encoded data removed]",
      "text/plain": [
       "<Figure size 1152x432 with 1 Axes>"
      ]
     },
     "metadata": {
      "needs_background": "light"
     },
     "output_type": "display_data"
    }
   ],
   "source": [
    "data.plot(x='FL_DATE', y='MEAN_DEP_DELAY')"
   ]
  },
  {
   "cell_type": "code",
   "execution_count": 11,
   "id": "3005f612",
   "metadata": {},
   "outputs": [
    {
     "data": {
      "text/html": [
       "<div>\n",
       "<style scoped>\n",
       "    .dataframe tbody tr th:only-of-type {\n",
       "        vertical-align: middle;\n",
       "    }\n",
       "\n",
       "    .dataframe tbody tr th {\n",
       "        vertical-align: top;\n",
       "    }\n",
       "\n",
       "    .dataframe thead th {\n",
       "        text-align: right;\n",
       "    }\n",
       "</style>\n",
       "<table border=\"1\" class=\"dataframe\">\n",
       "  <thead>\n",
       "    <tr style=\"text-align: right;\">\n",
       "      <th></th>\n",
       "      <th>MEAN_DEP_DELAY</th>\n",
       "    </tr>\n",
       "    <tr>\n",
       "      <th>FL_DATE</th>\n",
       "      <th></th>\n",
       "    </tr>\n",
       "  </thead>\n",
       "  <tbody>\n",
       "    <tr>\n",
       "      <th>2018-01-01</th>\n",
       "      <td>18.311475</td>\n",
       "    </tr>\n",
       "    <tr>\n",
       "      <th>2018-01-02</th>\n",
       "      <td>18.047478</td>\n",
       "    </tr>\n",
       "    <tr>\n",
       "      <th>2018-01-03</th>\n",
       "      <td>10.893548</td>\n",
       "    </tr>\n",
       "    <tr>\n",
       "      <th>2018-01-04</th>\n",
       "      <td>71.066667</td>\n",
       "    </tr>\n",
       "    <tr>\n",
       "      <th>2018-01-05</th>\n",
       "      <td>154.356164</td>\n",
       "    </tr>\n",
       "    <tr>\n",
       "      <th>...</th>\n",
       "      <td>...</td>\n",
       "    </tr>\n",
       "    <tr>\n",
       "      <th>2018-12-27</th>\n",
       "      <td>4.470430</td>\n",
       "    </tr>\n",
       "    <tr>\n",
       "      <th>2018-12-28</th>\n",
       "      <td>29.405914</td>\n",
       "    </tr>\n",
       "    <tr>\n",
       "      <th>2018-12-29</th>\n",
       "      <td>13.348571</td>\n",
       "    </tr>\n",
       "    <tr>\n",
       "      <th>2018-12-30</th>\n",
       "      <td>8.064171</td>\n",
       "    </tr>\n",
       "    <tr>\n",
       "      <th>2018-12-31</th>\n",
       "      <td>1.945338</td>\n",
       "    </tr>\n",
       "  </tbody>\n",
       "</table>\n",
       "<p>365 rows × 1 columns</p>\n",
       "</div>"
      ],
      "text/plain": [
       "            MEAN_DEP_DELAY\n",
       "FL_DATE                   \n",
       "2018-01-01       18.311475\n",
       "2018-01-02       18.047478\n",
       "2018-01-03       10.893548\n",
       "2018-01-04       71.066667\n",
       "2018-01-05      154.356164\n",
       "...                    ...\n",
       "2018-12-27        4.470430\n",
       "2018-12-28       29.405914\n",
       "2018-12-29       13.348571\n",
       "2018-12-30        8.064171\n",
       "2018-12-31        1.945338\n",
       "\n",
       "[365 rows x 1 columns]"
      ]
     },
     "execution_count": 11,
     "metadata": {},
     "output_type": "execute_result"
    }
   ],
   "source": [
    "data2 = data[data['ORIGIN']=='JFK']\n",
    "data2.drop(['ORIGIN'], axis=1, inplace=True)\n",
    "data2.set_index('FL_DATE', inplace=True)\n",
    "\n",
    "data2"
   ]
  },
  {
   "cell_type": "code",
   "execution_count": 13,
   "id": "a79f1827",
   "metadata": {},
   "outputs": [
    {
     "data": {
      "text/plain": [
       "MEAN_DEP_DELAY    18.998573\n",
       "dtype: float64"
      ]
     },
     "execution_count": 13,
     "metadata": {},
     "output_type": "execute_result"
    }
   ],
   "source": [
    "# Desviación standard\n",
    "data.std()"
   ]
  },
  {
   "cell_type": "code",
   "execution_count": 14,
   "id": "13ed897b",
   "metadata": {},
   "outputs": [],
   "source": [
    "# Ventana temporal para el promedio y multiplo de sigma para definir upper and lower bounds\n",
    "wind = 7\n",
    "sigma = 2\n",
    "\n",
    "data['lower_bound'] = data['MEAN_DEP_DELAY'].rolling(window=wind)\\\n",
    "    .mean() - (sigma * data['MEAN_DEP_DELAY'].rolling(window=wind).std())\n",
    "\n",
    "data['upper_bound'] = data['MEAN_DEP_DELAY'].rolling(window=wind)\\\n",
    "    .mean() + (sigma * data['MEAN_DEP_DELAY'].rolling(window=wind).std())\n"
   ]
  },
  {
   "cell_type": "code",
   "execution_count": 15,
   "id": "10013b48",
   "metadata": {},
   "outputs": [
    {
     "data": {
      "text/plain": [
       "<AxesSubplot:>"
      ]
     },
     "execution_count": 15,
     "metadata": {},
     "output_type": "execute_result"
    },
    {
     "data": {
      "image/png": "[encoded data removed]",
      "text/plain": [
       "<Figure size 1152x432 with 1 Axes>"
      ]
     },
     "metadata": {
      "needs_background": "light"
     },
     "output_type": "display_data"
    }
   ],
   "source": [
    "data[\"anomaly\"] = data.apply(lambda row: 1 if (row['MEAN_DEP_DELAY']>=row[\"upper_bound\"]) else 0, axis=1)\n",
    "data.plot()"
   ]
  },
  {
   "cell_type": "code",
   "execution_count": 16,
   "id": "144fd84a",
   "metadata": {},
   "outputs": [
    {
     "data": {
      "text/plain": [
       "ORIGIN            21\n",
       "FL_DATE           21\n",
       "MEAN_DEP_DELAY    21\n",
       "lower_bound       21\n",
       "upper_bound       21\n",
       "anomaly           21\n",
       "dtype: int64"
      ]
     },
     "execution_count": 16,
     "metadata": {},
     "output_type": "execute_result"
    }
   ],
   "source": [
    "data[data[\"anomaly\"]>0].count()"
   ]
  },
  {
   "cell_type": "code",
   "execution_count": 51,
   "id": "4e9e0b39",
   "metadata": {},
   "outputs": [
    {
     "name": "stdout",
     "output_type": "stream",
     "text": [
      "Total detected anomalies: 21\n"
     ]
    },
    {
     "data": {
      "text/html": [
       "<div>\n",
       "<style scoped>\n",
       "    .dataframe tbody tr th:only-of-type {\n",
       "        vertical-align: middle;\n",
       "    }\n",
       "\n",
       "    .dataframe tbody tr th {\n",
       "        vertical-align: top;\n",
       "    }\n",
       "\n",
       "    .dataframe thead th {\n",
       "        text-align: right;\n",
       "    }\n",
       "</style>\n",
       "<table border=\"1\" class=\"dataframe\">\n",
       "  <thead>\n",
       "    <tr style=\"text-align: right;\">\n",
       "      <th></th>\n",
       "      <th>ORIGIN</th>\n",
       "      <th>FL_DATE</th>\n",
       "      <th>MEAN_DEP_DELAY</th>\n",
       "      <th>lower_bound</th>\n",
       "      <th>upper_bound</th>\n",
       "      <th>anomaly</th>\n",
       "    </tr>\n",
       "  </thead>\n",
       "  <tbody>\n",
       "    <tr>\n",
       "      <th>59943</th>\n",
       "      <td>JFK</td>\n",
       "      <td>2018-02-07</td>\n",
       "      <td>25.621324</td>\n",
       "      <td>-15.024108</td>\n",
       "      <td>23.521515</td>\n",
       "      <td>1</td>\n",
       "    </tr>\n",
       "    <tr>\n",
       "      <th>59966</th>\n",
       "      <td>JFK</td>\n",
       "      <td>2018-03-02</td>\n",
       "      <td>50.654255</td>\n",
       "      <td>-28.336556</td>\n",
       "      <td>46.378795</td>\n",
       "      <td>1</td>\n",
       "    </tr>\n",
       "    <tr>\n",
       "      <th>59984</th>\n",
       "      <td>JFK</td>\n",
       "      <td>2018-03-20</td>\n",
       "      <td>23.017647</td>\n",
       "      <td>-5.848046</td>\n",
       "      <td>22.159134</td>\n",
       "      <td>1</td>\n",
       "    </tr>\n",
       "    <tr>\n",
       "      <th>59997</th>\n",
       "      <td>JFK</td>\n",
       "      <td>2018-04-02</td>\n",
       "      <td>25.961877</td>\n",
       "      <td>-6.691756</td>\n",
       "      <td>25.263250</td>\n",
       "      <td>1</td>\n",
       "    </tr>\n",
       "    <tr>\n",
       "      <th>60010</th>\n",
       "      <td>JFK</td>\n",
       "      <td>2018-04-15</td>\n",
       "      <td>25.182336</td>\n",
       "      <td>-8.480146</td>\n",
       "      <td>23.642514</td>\n",
       "      <td>1</td>\n",
       "    </tr>\n",
       "    <tr>\n",
       "      <th>60011</th>\n",
       "      <td>JFK</td>\n",
       "      <td>2018-04-16</td>\n",
       "      <td>89.207273</td>\n",
       "      <td>-44.823893</td>\n",
       "      <td>82.968198</td>\n",
       "      <td>1</td>\n",
       "    </tr>\n",
       "    <tr>\n",
       "      <th>60020</th>\n",
       "      <td>JFK</td>\n",
       "      <td>2018-04-25</td>\n",
       "      <td>36.850318</td>\n",
       "      <td>-18.002455</td>\n",
       "      <td>33.628996</td>\n",
       "      <td>1</td>\n",
       "    </tr>\n",
       "    <tr>\n",
       "      <th>60035</th>\n",
       "      <td>JFK</td>\n",
       "      <td>2018-05-10</td>\n",
       "      <td>27.109589</td>\n",
       "      <td>-14.567756</td>\n",
       "      <td>24.862212</td>\n",
       "      <td>1</td>\n",
       "    </tr>\n",
       "    <tr>\n",
       "      <th>60040</th>\n",
       "      <td>JFK</td>\n",
       "      <td>2018-05-15</td>\n",
       "      <td>68.961290</td>\n",
       "      <td>-29.781563</td>\n",
       "      <td>66.115614</td>\n",
       "      <td>1</td>\n",
       "    </tr>\n",
       "    <tr>\n",
       "      <th>60056</th>\n",
       "      <td>JFK</td>\n",
       "      <td>2018-05-31</td>\n",
       "      <td>25.670270</td>\n",
       "      <td>-9.242550</td>\n",
       "      <td>24.639274</td>\n",
       "      <td>1</td>\n",
       "    </tr>\n",
       "    <tr>\n",
       "      <th>60080</th>\n",
       "      <td>JFK</td>\n",
       "      <td>2018-06-24</td>\n",
       "      <td>56.687671</td>\n",
       "      <td>-18.170990</td>\n",
       "      <td>53.313802</td>\n",
       "      <td>1</td>\n",
       "    </tr>\n",
       "    <tr>\n",
       "      <th>60101</th>\n",
       "      <td>JFK</td>\n",
       "      <td>2018-07-15</td>\n",
       "      <td>75.128743</td>\n",
       "      <td>-39.251604</td>\n",
       "      <td>68.173098</td>\n",
       "      <td>1</td>\n",
       "    </tr>\n",
       "    <tr>\n",
       "      <th>60148</th>\n",
       "      <td>JFK</td>\n",
       "      <td>2018-08-31</td>\n",
       "      <td>18.752137</td>\n",
       "      <td>-6.066857</td>\n",
       "      <td>17.923656</td>\n",
       "      <td>1</td>\n",
       "    </tr>\n",
       "    <tr>\n",
       "      <th>60154</th>\n",
       "      <td>JFK</td>\n",
       "      <td>2018-09-06</td>\n",
       "      <td>53.597668</td>\n",
       "      <td>-24.290181</td>\n",
       "      <td>50.978404</td>\n",
       "      <td>1</td>\n",
       "    </tr>\n",
       "    <tr>\n",
       "      <th>60166</th>\n",
       "      <td>JFK</td>\n",
       "      <td>2018-09-18</td>\n",
       "      <td>29.582386</td>\n",
       "      <td>-14.018889</td>\n",
       "      <td>28.152188</td>\n",
       "      <td>1</td>\n",
       "    </tr>\n",
       "    <tr>\n",
       "      <th>60189</th>\n",
       "      <td>JFK</td>\n",
       "      <td>2018-10-11</td>\n",
       "      <td>28.846575</td>\n",
       "      <td>-11.297604</td>\n",
       "      <td>27.950277</td>\n",
       "      <td>1</td>\n",
       "    </tr>\n",
       "    <tr>\n",
       "      <th>60211</th>\n",
       "      <td>JFK</td>\n",
       "      <td>2018-11-02</td>\n",
       "      <td>16.809384</td>\n",
       "      <td>-11.580957</td>\n",
       "      <td>16.232215</td>\n",
       "      <td>1</td>\n",
       "    </tr>\n",
       "    <tr>\n",
       "      <th>60224</th>\n",
       "      <td>JFK</td>\n",
       "      <td>2018-11-15</td>\n",
       "      <td>105.932624</td>\n",
       "      <td>-60.022394</td>\n",
       "      <td>95.899091</td>\n",
       "      <td>1</td>\n",
       "    </tr>\n",
       "    <tr>\n",
       "      <th>60235</th>\n",
       "      <td>JFK</td>\n",
       "      <td>2018-11-26</td>\n",
       "      <td>27.688347</td>\n",
       "      <td>-6.523300</td>\n",
       "      <td>26.571312</td>\n",
       "      <td>1</td>\n",
       "    </tr>\n",
       "    <tr>\n",
       "      <th>60255</th>\n",
       "      <td>JFK</td>\n",
       "      <td>2018-12-16</td>\n",
       "      <td>10.249284</td>\n",
       "      <td>-2.961999</td>\n",
       "      <td>10.067957</td>\n",
       "      <td>1</td>\n",
       "    </tr>\n",
       "    <tr>\n",
       "      <th>60260</th>\n",
       "      <td>JFK</td>\n",
       "      <td>2018-12-21</td>\n",
       "      <td>62.225806</td>\n",
       "      <td>-30.996125</td>\n",
       "      <td>57.062461</td>\n",
       "      <td>1</td>\n",
       "    </tr>\n",
       "  </tbody>\n",
       "</table>\n",
       "</div>"
      ],
      "text/plain": [
       "      ORIGIN     FL_DATE  MEAN_DEP_DELAY  lower_bound  upper_bound  anomaly\n",
       "59943    JFK  2018-02-07       25.621324   -15.024108    23.521515        1\n",
       "59966    JFK  2018-03-02       50.654255   -28.336556    46.378795        1\n",
       "59984    JFK  2018-03-20       23.017647    -5.848046    22.159134        1\n",
       "59997    JFK  2018-04-02       25.961877    -6.691756    25.263250        1\n",
       "60010    JFK  2018-04-15       25.182336    -8.480146    23.642514        1\n",
       "60011    JFK  2018-04-16       89.207273   -44.823893    82.968198        1\n",
       "60020    JFK  2018-04-25       36.850318   -18.002455    33.628996        1\n",
       "60035    JFK  2018-05-10       27.109589   -14.567756    24.862212        1\n",
       "60040    JFK  2018-05-15       68.961290   -29.781563    66.115614        1\n",
       "60056    JFK  2018-05-31       25.670270    -9.242550    24.639274        1\n",
       "60080    JFK  2018-06-24       56.687671   -18.170990    53.313802        1\n",
       "60101    JFK  2018-07-15       75.128743   -39.251604    68.173098        1\n",
       "60148    JFK  2018-08-31       18.752137    -6.066857    17.923656        1\n",
       "60154    JFK  2018-09-06       53.597668   -24.290181    50.978404        1\n",
       "60166    JFK  2018-09-18       29.582386   -14.018889    28.152188        1\n",
       "60189    JFK  2018-10-11       28.846575   -11.297604    27.950277        1\n",
       "60211    JFK  2018-11-02       16.809384   -11.580957    16.232215        1\n",
       "60224    JFK  2018-11-15      105.932624   -60.022394    95.899091        1\n",
       "60235    JFK  2018-11-26       27.688347    -6.523300    26.571312        1\n",
       "60255    JFK  2018-12-16       10.249284    -2.961999    10.067957        1\n",
       "60260    JFK  2018-12-21       62.225806   -30.996125    57.062461        1"
      ]
     },
     "execution_count": 51,
     "metadata": {},
     "output_type": "execute_result"
    }
   ],
   "source": [
    "print(\"Total detected anomalies: {}\".format(data[data[\"anomaly\"]>0].shape[0])) \n",
    "data[data[\"anomaly\"]>0].head(50)"
   ]
  }
 ],
 "metadata": {
  "kernelspec": {
   "display_name": "Python 3 (ipykernel)",
   "language": "python",
   "name": "python3"
  },
  "language_info": {
   "codemirror_mode": {
    "name": "ipython",
    "version": 3
   },
   "file_extension": ".py",
   "mimetype": "text/x-python",
   "name": "python",
   "nbconvert_exporter": "python",
   "pygments_lexer": "ipython3",
   "version": "3.9.7"
  }
 },
 "nbformat": 4,
 "nbformat_minor": 5
}
