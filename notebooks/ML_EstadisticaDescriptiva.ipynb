{
 "cells": [
  {
   "cell_type": "markdown",
   "id": "d9639bd5",
   "metadata": {},
   "source": [
    "# Estadistica descriptiva\n"
   ]
  },
  {
   "cell_type": "code",
   "execution_count": 1,
   "id": "264c856f",
   "metadata": {},
   "outputs": [],
   "source": [
    "import pandas as pd\n",
    "\n",
    "# Set to see all columns\n",
    "pd.set_option('display.max_columns', None)\n",
    "\n",
    "import warnings\n",
    "warnings.filterwarnings('ignore')"
   ]
  },
  {
   "cell_type": "code",
   "execution_count": 2,
   "id": "6b5d30c6",
   "metadata": {},
   "outputs": [
    {
     "data": {
      "text/plain": [
       "(7213446, 28)"
      ]
     },
     "execution_count": 2,
     "metadata": {},
     "output_type": "execute_result"
    }
   ],
   "source": [
    "csv_file = 'data/01_bronze/2018.csv'\n",
    "df = pd.read_csv(csv_file)\n",
    "df.shape"
   ]
  },
  {
   "cell_type": "code",
   "execution_count": 4,
   "id": "35804776",
   "metadata": {},
   "outputs": [
    {
     "name": "stdout",
     "output_type": "stream",
     "text": [
      "<class 'pandas.core.series.Series'>\n",
      "RangeIndex: 7213446 entries, 0 to 7213445\n",
      "Series name: DEP_DELAY\n",
      "Non-Null Count    Dtype  \n",
      "--------------    -----  \n",
      "7096212 non-null  float64\n",
      "dtypes: float64(1)\n",
      "memory usage: 55.0 MB\n"
     ]
    },
    {
     "data": {
      "text/plain": [
       "117234"
      ]
     },
     "execution_count": 4,
     "metadata": {},
     "output_type": "execute_result"
    }
   ],
   "source": [
    "# Visualizamos informacion de la columna DEP_DELAY\n",
    "df.DEP_DELAY.info()\n",
    "\n",
    "# Contamos la cantidad de valores nulos\n",
    "df.DEP_DELAY.isna().sum()"
   ]
  },
  {
   "cell_type": "code",
   "execution_count": 5,
   "id": "25c5ee67",
   "metadata": {},
   "outputs": [
    {
     "data": {
      "text/plain": [
       "(7096212, 28)"
      ]
     },
     "execution_count": 5,
     "metadata": {},
     "output_type": "execute_result"
    }
   ],
   "source": [
    "# Nos quedamos con los DEP_DELAY que tienen datos\n",
    "df = df[df['DEP_DELAY'].notna()]\n",
    "df.shape"
   ]
  },
  {
   "cell_type": "code",
   "execution_count": 24,
   "id": "6c86b8de",
   "metadata": {},
   "outputs": [
    {
     "data": {
      "text/plain": [
       "array(['UA', 'AS', '9E', 'B6', 'EV', 'F9', 'G4', 'HA', 'MQ', 'NK', 'OH',\n",
       "       'OO', 'VX', 'WN', 'YV', 'YX', 'AA', 'DL'], dtype=object)"
      ]
     },
     "execution_count": 24,
     "metadata": {},
     "output_type": "execute_result"
    }
   ],
   "source": [
    "# Check unique values in OP_CARRIER (airline) column\n",
    "df.OP_CARRIER.unique()"
   ]
  },
  {
   "cell_type": "code",
   "execution_count": 10,
   "id": "320d786d",
   "metadata": {},
   "outputs": [],
   "source": [
    "# Renaming airline codes to company names\n",
    "# Source: https://en.wikipedia.org/wiki/List_of_airlines_of_the_United_States\n",
    "\n",
    "df['OP_CARRIER'].replace({\n",
    "    'UA':'United Airlines',\n",
    "    'AS':'Alaska Airlines',\n",
    "    '9E':'Endeavor Air',\n",
    "    'B6':'JetBlue Airways',\n",
    "    'EV':'ExpressJet',\n",
    "    'F9':'Frontier Airlines',\n",
    "    'G4':'Allegiant Air',\n",
    "    'HA':'Hawaiian Airlines',\n",
    "    'MQ':'Envoy Air',\n",
    "    'NK':'Spirit Airlines',\n",
    "    'OH':'PSA Airlines',\n",
    "    'OO':'SkyWest Airlines',\n",
    "    'VX':'Virgin America',\n",
    "    'WN':'Southwest Airlines',\n",
    "    'YV':'Mesa Airline',\n",
    "    'YX':'Republic Airways',\n",
    "    'AA':'American Airlines',\n",
    "    'DL':'Delta Airlines'\n",
    "},inplace=True)"
   ]
  },
  {
   "cell_type": "code",
   "execution_count": 70,
   "id": "366154dc",
   "metadata": {
    "collapsed": true
   },
   "outputs": [
    {
     "data": {
      "text/plain": [
       "array(['EWR', 'LAS', 'SNA', 'RSW', 'ORD', 'IAH', 'DEN', 'SMF', 'RIC',\n",
       "       'PDX', 'MCO', 'TYS', 'SFO', 'JAC', 'BOS', 'MSY', 'MIA', 'SEA',\n",
       "       'SAT', 'SLC', 'RDU', 'FLL', 'IAD', 'DFW', 'ANC', 'MSP', 'ALB',\n",
       "       'LAX', 'IND', 'SAN', 'BNA', 'BDL', 'ABQ', 'SAV', 'PHX', 'AUS',\n",
       "       'PHL', 'SJC', 'ORF', 'DCA', 'LGA', 'BWI', 'PIT', 'OGG', 'CLE',\n",
       "       'TPA', 'MYR', 'ROC', 'SJU', 'EGE', 'HNL', 'ONT', 'PBI', 'MKE',\n",
       "       'HDN', 'JAX', 'OKC', 'ATL', 'SRQ', 'BZN', 'EUG', 'BOI', 'RNO',\n",
       "       'GEG', 'TUS', 'LIH', 'KOA', 'ITO', 'PSP', 'DTW', 'GUC', 'OMA',\n",
       "       'MTJ', 'CLT', 'CHS', 'MCI', 'BIL', 'CVG', 'CID', 'MEM', 'AVL',\n",
       "       'BUF', 'GUM', 'JFK', 'ADQ', 'BET', 'SCC', 'BRW', 'FAI', 'JNU',\n",
       "       'KTN', 'SIT', 'PSG', 'OME', 'OTZ', 'BUR', 'OAK', 'BLI', 'SBA',\n",
       "       'STL', 'GFK', 'SYR', 'GSP', 'FSD', 'DSM', 'ILM', 'PWM', 'BIS',\n",
       "       'JAN', 'GRB', 'OAJ', 'BTV', 'TLH', 'LAN', 'MSN', 'BMI', 'BGR',\n",
       "       'ABY', 'MOT', 'DHN', 'LEX', 'MDT', 'CMH', 'FSM', 'HSV', 'FAR',\n",
       "       'BQK', 'GSO', 'CHA', 'AGS', 'MOB', 'MGM', 'CWA', 'TRI', 'CSG',\n",
       "       'VLD', 'PIA', 'LFT', 'GNV', 'FAY', 'AEX', 'EWN', 'CAE', 'ELM',\n",
       "       'GRR', 'DAY', 'ATW', 'HRL', 'TVC', 'LGB', 'HOU', 'STX', 'HPN',\n",
       "       'SWF', 'PVD', 'DAB', 'BQN', 'PSE', 'STT', 'ORH', 'BTR', 'ROW',\n",
       "       'BHM', 'MHK', 'SAF', 'MAF', 'LBB', 'COU', 'GRK', 'MLU', 'AVP',\n",
       "       'LIT', 'FNT', 'SHV', 'TUL', 'EVV', 'XNA', 'VPS', 'ICT', 'SDF',\n",
       "       'ELP', 'ECP', 'GPT', 'CRW', 'SBN', 'CAK', 'LCH', 'AMA', 'CRP',\n",
       "       'PNS', 'COS', 'PHF', 'RST', 'HOB', 'CLL', 'SGF', 'MFE', 'MHT',\n",
       "       'FWA', 'LNK', 'EYW', 'ABE', 'MLI', 'ISP', 'TTN', 'SFB', 'PIE',\n",
       "       'IAG', 'BLV', 'TOL', 'HGR', 'ROA', 'RFD', 'PBG', 'OWB', 'HTS',\n",
       "       'PGD', 'USA', 'LCK', 'MFR', 'AZA', 'GRI', 'FCA', 'RAP', 'OGD',\n",
       "       'PVU', 'YNG', 'CPR', 'MRY', 'FAT', 'SCK', 'GJT', 'SMX', 'PPG',\n",
       "       'SJT', 'SUX', 'JLN', 'CMI', 'ABI', 'GCK', 'TYR', 'ALO', 'SPI',\n",
       "       'GGG', 'SPS', 'MQT', 'DBQ', 'SWO', 'TXK', 'AZO', 'CHO', 'ACT',\n",
       "       'LAW', 'BPT', 'LBE', 'ACY', 'HVN', 'MLB', 'ASE', 'LSE', 'FLG',\n",
       "       'RDM', 'STS', 'YUM', 'DRO', 'MEI', 'PIB', 'SGU', 'IFP', 'DAL',\n",
       "       'PSC', 'SBP', 'SCE', 'COD', 'ERI', 'ITH', 'IMT', 'DLH', 'IDA',\n",
       "       'SUN', 'HLN', 'TWF', 'MBS', 'GTF', 'MDW', 'ISN', 'MSO', 'GTR',\n",
       "       'EAU', 'CKB', 'RKS', 'PUB', 'CGI', 'UIN', 'DVL', 'JMS', 'LAR',\n",
       "       'OTH', 'HYS', 'GCC', 'ACV', 'RDD', 'BFL', 'MMH', 'LWS', 'PIH',\n",
       "       'ABR', 'APN', 'ESC', 'PLN', 'BJI', 'BTM', 'CDC', 'CIU', 'EKO',\n",
       "       'HIB', 'BGM', 'RHI', 'BRD', 'INL', 'BRO', 'LRD', 'PSM', 'CMX',\n",
       "       'MKG', 'PAH', 'YAK', 'CDV', 'WRG', 'OGS', 'STC', 'ADK', 'LYH',\n",
       "       'BFF', 'LBF', 'LBL', 'FLO', 'PGV', 'LWB', 'SHD', 'SLN', 'CNY',\n",
       "       'ACK', 'MVY', 'WYS', 'HYA', 'SPN', 'GST', 'AKN', 'DLG', 'BKG',\n",
       "       'VEL', 'HHH', 'PRC', 'EAR', 'DRT', 'CYS', 'ART'], dtype=object)"
      ]
     },
     "execution_count": 70,
     "metadata": {},
     "output_type": "execute_result"
    }
   ],
   "source": [
    "df.ORIGIN.unique()"
   ]
  },
  {
   "cell_type": "code",
   "execution_count": 26,
   "id": "f7e4cecc",
   "metadata": {},
   "outputs": [
    {
     "data": {
      "text/plain": [
       "array([0., 1.])"
      ]
     },
     "execution_count": 26,
     "metadata": {},
     "output_type": "execute_result"
    }
   ],
   "source": [
    "# Let's explore column CANCELLED\n",
    "df.CANCELLED.unique()"
   ]
  },
  {
   "cell_type": "code",
   "execution_count": 15,
   "id": "bdf37cbb",
   "metadata": {},
   "outputs": [
    {
     "data": {
      "text/plain": [
       "4093.0"
      ]
     },
     "execution_count": 15,
     "metadata": {},
     "output_type": "execute_result"
    }
   ],
   "source": [
    "# Total number of canceled flights\n",
    "df.CANCELLED.sum()"
   ]
  },
  {
   "cell_type": "code",
   "execution_count": 8,
   "id": "1654cc6c",
   "metadata": {
    "collapsed": true
   },
   "outputs": [
    {
     "name": "stdout",
     "output_type": "stream",
     "text": [
      "<class 'pandas.core.frame.DataFrame'>\n",
      "Int64Index: 116584 entries, 178 to 7212773\n",
      "Data columns (total 28 columns):\n",
      " #   Column               Non-Null Count   Dtype  \n",
      "---  ------               --------------   -----  \n",
      " 0   FL_DATE              116584 non-null  object \n",
      " 1   OP_CARRIER           116584 non-null  object \n",
      " 2   OP_CARRIER_FL_NUM    116584 non-null  int64  \n",
      " 3   ORIGIN               116584 non-null  object \n",
      " 4   DEST                 116584 non-null  object \n",
      " 5   CRS_DEP_TIME         116584 non-null  int64  \n",
      " 6   DEP_TIME             4267 non-null    float64\n",
      " 7   DEP_DELAY            4093 non-null    float64\n",
      " 8   TAXI_OUT             754 non-null     float64\n",
      " 9   WHEELS_OFF           755 non-null     float64\n",
      " 10  WHEELS_ON            0 non-null       float64\n",
      " 11  TAXI_IN              0 non-null       float64\n",
      " 12  CRS_ARR_TIME         116584 non-null  int64  \n",
      " 13  ARR_TIME             0 non-null       float64\n",
      " 14  ARR_DELAY            0 non-null       float64\n",
      " 15  CANCELLED            116584 non-null  float64\n",
      " 16  CANCELLATION_CODE    116584 non-null  object \n",
      " 17  DIVERTED             116584 non-null  float64\n",
      " 18  CRS_ELAPSED_TIME     116581 non-null  float64\n",
      " 19  ACTUAL_ELAPSED_TIME  0 non-null       float64\n",
      " 20  AIR_TIME             0 non-null       float64\n",
      " 21  DISTANCE             116584 non-null  float64\n",
      " 22  CARRIER_DELAY        0 non-null       float64\n",
      " 23  WEATHER_DELAY        0 non-null       float64\n",
      " 24  NAS_DELAY            0 non-null       float64\n",
      " 25  SECURITY_DELAY       0 non-null       float64\n",
      " 26  LATE_AIRCRAFT_DELAY  0 non-null       float64\n",
      " 27  Unnamed: 27          0 non-null       float64\n",
      "dtypes: float64(20), int64(3), object(5)\n",
      "memory usage: 25.8+ MB\n"
     ]
    }
   ],
   "source": [
    "# Veamos los vuelos cancelados. Vemos que aportan al DEP_DELAY\n",
    "#df[df['CANCELLED']==1].head()\n",
    "df[df['CANCELLED']==1].info()"
   ]
  },
  {
   "cell_type": "code",
   "execution_count": 8,
   "id": "26f74a5d",
   "metadata": {},
   "outputs": [],
   "source": [
    "# OPTIONAL: Leaving only non-canceled flights\n",
    "df = df[(df['CANCELLED'] == 0)]\n",
    "df.shape"
   ]
  },
  {
   "cell_type": "code",
   "execution_count": 20,
   "id": "d20b5693",
   "metadata": {
    "collapsed": true
   },
   "outputs": [
    {
     "data": {
      "text/plain": [
       "0    -5.0\n",
       "1    -8.0\n",
       "2    -5.0\n",
       "3     6.0\n",
       "4    20.0\n",
       "Name: DEP_DELAY, dtype: float64"
      ]
     },
     "execution_count": 20,
     "metadata": {},
     "output_type": "execute_result"
    }
   ],
   "source": [
    "# Departure delay data (in minutes)\n",
    "df.DEP_DELAY.head()"
   ]
  },
  {
   "cell_type": "code",
   "execution_count": 21,
   "id": "bda1c1fc",
   "metadata": {
    "collapsed": true
   },
   "outputs": [
    {
     "data": {
      "text/plain": [
       "0   -23.0\n",
       "1   -24.0\n",
       "2   -13.0\n",
       "3    -2.0\n",
       "4    14.0\n",
       "Name: ARR_DELAY, dtype: float64"
      ]
     },
     "execution_count": 21,
     "metadata": {},
     "output_type": "execute_result"
    }
   ],
   "source": [
    "# Arrival delay data (in minutes)\n",
    "df.ARR_DELAY.head()"
   ]
  },
  {
   "cell_type": "code",
   "execution_count": 36,
   "id": "cf64ed72",
   "metadata": {
    "collapsed": true
   },
   "outputs": [
    {
     "ename": "AttributeError",
     "evalue": "'DataFrame' object has no attribute 'FL_DATE'",
     "output_type": "error",
     "traceback": [
      "\u001b[0;31m---------------------------------------------------------------------------\u001b[0m",
      "\u001b[0;31mAttributeError\u001b[0m                            Traceback (most recent call last)",
      "\u001b[0;32m/tmp/ipykernel_2601832/2125817132.py\u001b[0m in \u001b[0;36m<module>\u001b[0;34m\u001b[0m\n\u001b[1;32m      1\u001b[0m \u001b[0;31m# To do this analysis right, let's filter all negative numbers in ARR_DELAY column\u001b[0m\u001b[0;34m\u001b[0m\u001b[0;34m\u001b[0m\u001b[0m\n\u001b[1;32m      2\u001b[0m \u001b[0;31m# Number of delayed flights\u001b[0m\u001b[0;34m\u001b[0m\u001b[0;34m\u001b[0m\u001b[0m\n\u001b[0;32m----> 3\u001b[0;31m \u001b[0mdf\u001b[0m\u001b[0;34m[\u001b[0m\u001b[0mdf\u001b[0m\u001b[0;34m.\u001b[0m\u001b[0mARR_DELAY\u001b[0m \u001b[0;34m>\u001b[0m \u001b[0;36m0\u001b[0m \u001b[0;34m]\u001b[0m\u001b[0;34m.\u001b[0m\u001b[0mFL_DATE\u001b[0m\u001b[0;34m.\u001b[0m\u001b[0mcount\u001b[0m\u001b[0;34m(\u001b[0m\u001b[0;34m)\u001b[0m\u001b[0;34m\u001b[0m\u001b[0;34m\u001b[0m\u001b[0m\n\u001b[0m",
      "\u001b[0;32m~/anaconda3/lib/python3.9/site-packages/pandas/core/generic.py\u001b[0m in \u001b[0;36m__getattr__\u001b[0;34m(self, name)\u001b[0m\n\u001b[1;32m   5573\u001b[0m         ):\n\u001b[1;32m   5574\u001b[0m             \u001b[0;32mreturn\u001b[0m \u001b[0mself\u001b[0m\u001b[0;34m[\u001b[0m\u001b[0mname\u001b[0m\u001b[0;34m]\u001b[0m\u001b[0;34m\u001b[0m\u001b[0;34m\u001b[0m\u001b[0m\n\u001b[0;32m-> 5575\u001b[0;31m         \u001b[0;32mreturn\u001b[0m \u001b[0mobject\u001b[0m\u001b[0;34m.\u001b[0m\u001b[0m__getattribute__\u001b[0m\u001b[0;34m(\u001b[0m\u001b[0mself\u001b[0m\u001b[0;34m,\u001b[0m \u001b[0mname\u001b[0m\u001b[0;34m)\u001b[0m\u001b[0;34m\u001b[0m\u001b[0;34m\u001b[0m\u001b[0m\n\u001b[0m\u001b[1;32m   5576\u001b[0m \u001b[0;34m\u001b[0m\u001b[0m\n\u001b[1;32m   5577\u001b[0m     \u001b[0;32mdef\u001b[0m \u001b[0m__setattr__\u001b[0m\u001b[0;34m(\u001b[0m\u001b[0mself\u001b[0m\u001b[0;34m,\u001b[0m \u001b[0mname\u001b[0m\u001b[0;34m:\u001b[0m \u001b[0mstr\u001b[0m\u001b[0;34m,\u001b[0m \u001b[0mvalue\u001b[0m\u001b[0;34m)\u001b[0m \u001b[0;34m->\u001b[0m \u001b[0;32mNone\u001b[0m\u001b[0;34m:\u001b[0m\u001b[0;34m\u001b[0m\u001b[0;34m\u001b[0m\u001b[0m\n",
      "\u001b[0;31mAttributeError\u001b[0m: 'DataFrame' object has no attribute 'FL_DATE'"
     ]
    }
   ],
   "source": [
    "# To do this analysis right, let's filter all negative numbers in ARR_DELAY column\n",
    "# Number of delayed flights \n",
    "df[df.ARR_DELAY > 0 ].FL_DATE.count()"
   ]
  },
  {
   "cell_type": "code",
   "execution_count": 6,
   "id": "9e8e3f6d",
   "metadata": {},
   "outputs": [
    {
     "name": "stdout",
     "output_type": "stream",
     "text": [
      "Departure delay only: 20.60811129228362\n",
      "Arraival delay only: 23.052463579612752\n",
      "All delayed: 55.95717207513737\n"
     ]
    }
   ],
   "source": [
    "# total de registros\n",
    "total = int(df.shape[0])\n",
    "total_delay = int(df[(df.DEP_DELAY > 0) | (df.ARR_DELAY > 0)].FL_DATE.count())\n",
    "\n",
    "# only departure delayed\n",
    "dep_delay_only = int(df[(df.DEP_DELAY > 0) & (df.ARR_DELAY <= 0)].FL_DATE.count())\n",
    "\n",
    "# only arribal delayed\n",
    "arr_delay_only = int(df[(df.DEP_DELAY <= 0) & (df.ARR_DELAY > 0)].FL_DATE.count())\n",
    "\n",
    "# departure and arribal delayed\n",
    "dep_arr_delay = int(df[(df.DEP_DELAY > 0) & (df.ARR_DELAY > 0)].FL_DATE.count())\n",
    "\n",
    "dep_delay = (dep_delay_only/total_delay) * 100\n",
    "arr_delay = (arr_delay_only/total_delay) * 100\n",
    "all_delay = (dep_arr_delay/total_delay) * 100\n",
    "\n",
    "print(f\"Departure delay only: {dep_delay}\")\n",
    "print(f\"Arraival delay only: {arr_delay}\")\n",
    "print(f\"All delayed: {all_delay}\")\n"
   ]
  },
  {
   "cell_type": "code",
   "execution_count": null,
   "id": "98addef5",
   "metadata": {},
   "outputs": [],
   "source": [
    "# Desvios\n",
    "df.DIVERTED.unique()"
   ]
  },
  {
   "cell_type": "code",
   "execution_count": 45,
   "id": "e78d125f",
   "metadata": {
    "collapsed": true
   },
   "outputs": [
    {
     "data": {
      "text/html": [
       "<div>\n",
       "<style scoped>\n",
       "    .dataframe tbody tr th:only-of-type {\n",
       "        vertical-align: middle;\n",
       "    }\n",
       "\n",
       "    .dataframe tbody tr th {\n",
       "        vertical-align: top;\n",
       "    }\n",
       "\n",
       "    .dataframe thead th {\n",
       "        text-align: right;\n",
       "    }\n",
       "</style>\n",
       "<table border=\"1\" class=\"dataframe\">\n",
       "  <thead>\n",
       "    <tr style=\"text-align: right;\">\n",
       "      <th></th>\n",
       "      <th>FL_DATE</th>\n",
       "      <th>OP_CARRIER</th>\n",
       "      <th>OP_CARRIER_FL_NUM</th>\n",
       "      <th>ORIGIN</th>\n",
       "      <th>DEST</th>\n",
       "      <th>CRS_DEP_TIME</th>\n",
       "      <th>DEP_TIME</th>\n",
       "      <th>DEP_DELAY</th>\n",
       "      <th>TAXI_OUT</th>\n",
       "      <th>WHEELS_OFF</th>\n",
       "      <th>WHEELS_ON</th>\n",
       "      <th>TAXI_IN</th>\n",
       "      <th>CRS_ARR_TIME</th>\n",
       "      <th>ARR_TIME</th>\n",
       "      <th>ARR_DELAY</th>\n",
       "      <th>CANCELLED</th>\n",
       "      <th>CANCELLATION_CODE</th>\n",
       "      <th>DIVERTED</th>\n",
       "      <th>CRS_ELAPSED_TIME</th>\n",
       "      <th>ACTUAL_ELAPSED_TIME</th>\n",
       "      <th>AIR_TIME</th>\n",
       "      <th>DISTANCE</th>\n",
       "      <th>CARRIER_DELAY</th>\n",
       "      <th>WEATHER_DELAY</th>\n",
       "      <th>NAS_DELAY</th>\n",
       "      <th>SECURITY_DELAY</th>\n",
       "      <th>LATE_AIRCRAFT_DELAY</th>\n",
       "      <th>Unnamed: 27</th>\n",
       "    </tr>\n",
       "  </thead>\n",
       "  <tbody>\n",
       "    <tr>\n",
       "      <th>1168</th>\n",
       "      <td>2018-01-01</td>\n",
       "      <td>UA</td>\n",
       "      <td>555</td>\n",
       "      <td>SFO</td>\n",
       "      <td>SAN</td>\n",
       "      <td>729</td>\n",
       "      <td>718.0</td>\n",
       "      <td>-11.0</td>\n",
       "      <td>17.0</td>\n",
       "      <td>735.0</td>\n",
       "      <td>1124.0</td>\n",
       "      <td>3.0</td>\n",
       "      <td>903</td>\n",
       "      <td>1127.0</td>\n",
       "      <td>NaN</td>\n",
       "      <td>0.0</td>\n",
       "      <td>NaN</td>\n",
       "      <td>1.0</td>\n",
       "      <td>94.0</td>\n",
       "      <td>NaN</td>\n",
       "      <td>NaN</td>\n",
       "      <td>447.0</td>\n",
       "      <td>NaN</td>\n",
       "      <td>NaN</td>\n",
       "      <td>NaN</td>\n",
       "      <td>NaN</td>\n",
       "      <td>NaN</td>\n",
       "      <td>NaN</td>\n",
       "    </tr>\n",
       "    <tr>\n",
       "      <th>1638</th>\n",
       "      <td>2018-01-01</td>\n",
       "      <td>AS</td>\n",
       "      <td>64</td>\n",
       "      <td>PSG</td>\n",
       "      <td>WRG</td>\n",
       "      <td>1514</td>\n",
       "      <td>1626.0</td>\n",
       "      <td>72.0</td>\n",
       "      <td>20.0</td>\n",
       "      <td>1646.0</td>\n",
       "      <td>NaN</td>\n",
       "      <td>NaN</td>\n",
       "      <td>1538</td>\n",
       "      <td>NaN</td>\n",
       "      <td>NaN</td>\n",
       "      <td>0.0</td>\n",
       "      <td>NaN</td>\n",
       "      <td>1.0</td>\n",
       "      <td>24.0</td>\n",
       "      <td>NaN</td>\n",
       "      <td>NaN</td>\n",
       "      <td>31.0</td>\n",
       "      <td>NaN</td>\n",
       "      <td>NaN</td>\n",
       "      <td>NaN</td>\n",
       "      <td>NaN</td>\n",
       "      <td>NaN</td>\n",
       "      <td>NaN</td>\n",
       "    </tr>\n",
       "    <tr>\n",
       "      <th>1643</th>\n",
       "      <td>2018-01-01</td>\n",
       "      <td>AS</td>\n",
       "      <td>65</td>\n",
       "      <td>KTN</td>\n",
       "      <td>WRG</td>\n",
       "      <td>925</td>\n",
       "      <td>918.0</td>\n",
       "      <td>-7.0</td>\n",
       "      <td>26.0</td>\n",
       "      <td>944.0</td>\n",
       "      <td>NaN</td>\n",
       "      <td>NaN</td>\n",
       "      <td>1011</td>\n",
       "      <td>NaN</td>\n",
       "      <td>NaN</td>\n",
       "      <td>0.0</td>\n",
       "      <td>NaN</td>\n",
       "      <td>1.0</td>\n",
       "      <td>46.0</td>\n",
       "      <td>NaN</td>\n",
       "      <td>NaN</td>\n",
       "      <td>82.0</td>\n",
       "      <td>NaN</td>\n",
       "      <td>NaN</td>\n",
       "      <td>NaN</td>\n",
       "      <td>NaN</td>\n",
       "      <td>NaN</td>\n",
       "      <td>NaN</td>\n",
       "    </tr>\n",
       "    <tr>\n",
       "      <th>1683</th>\n",
       "      <td>2018-01-01</td>\n",
       "      <td>AS</td>\n",
       "      <td>120</td>\n",
       "      <td>SEA</td>\n",
       "      <td>SAN</td>\n",
       "      <td>550</td>\n",
       "      <td>544.0</td>\n",
       "      <td>-6.0</td>\n",
       "      <td>18.0</td>\n",
       "      <td>602.0</td>\n",
       "      <td>1046.0</td>\n",
       "      <td>3.0</td>\n",
       "      <td>840</td>\n",
       "      <td>1049.0</td>\n",
       "      <td>NaN</td>\n",
       "      <td>0.0</td>\n",
       "      <td>NaN</td>\n",
       "      <td>1.0</td>\n",
       "      <td>170.0</td>\n",
       "      <td>NaN</td>\n",
       "      <td>NaN</td>\n",
       "      <td>1050.0</td>\n",
       "      <td>NaN</td>\n",
       "      <td>NaN</td>\n",
       "      <td>NaN</td>\n",
       "      <td>NaN</td>\n",
       "      <td>NaN</td>\n",
       "      <td>NaN</td>\n",
       "    </tr>\n",
       "    <tr>\n",
       "      <th>1850</th>\n",
       "      <td>2018-01-01</td>\n",
       "      <td>AS</td>\n",
       "      <td>512</td>\n",
       "      <td>SEA</td>\n",
       "      <td>SAN</td>\n",
       "      <td>725</td>\n",
       "      <td>722.0</td>\n",
       "      <td>-3.0</td>\n",
       "      <td>16.0</td>\n",
       "      <td>738.0</td>\n",
       "      <td>1216.0</td>\n",
       "      <td>3.0</td>\n",
       "      <td>1017</td>\n",
       "      <td>1219.0</td>\n",
       "      <td>NaN</td>\n",
       "      <td>0.0</td>\n",
       "      <td>NaN</td>\n",
       "      <td>1.0</td>\n",
       "      <td>172.0</td>\n",
       "      <td>NaN</td>\n",
       "      <td>NaN</td>\n",
       "      <td>1050.0</td>\n",
       "      <td>NaN</td>\n",
       "      <td>NaN</td>\n",
       "      <td>NaN</td>\n",
       "      <td>NaN</td>\n",
       "      <td>NaN</td>\n",
       "      <td>NaN</td>\n",
       "    </tr>\n",
       "    <tr>\n",
       "      <th>...</th>\n",
       "      <td>...</td>\n",
       "      <td>...</td>\n",
       "      <td>...</td>\n",
       "      <td>...</td>\n",
       "      <td>...</td>\n",
       "      <td>...</td>\n",
       "      <td>...</td>\n",
       "      <td>...</td>\n",
       "      <td>...</td>\n",
       "      <td>...</td>\n",
       "      <td>...</td>\n",
       "      <td>...</td>\n",
       "      <td>...</td>\n",
       "      <td>...</td>\n",
       "      <td>...</td>\n",
       "      <td>...</td>\n",
       "      <td>...</td>\n",
       "      <td>...</td>\n",
       "      <td>...</td>\n",
       "      <td>...</td>\n",
       "      <td>...</td>\n",
       "      <td>...</td>\n",
       "      <td>...</td>\n",
       "      <td>...</td>\n",
       "      <td>...</td>\n",
       "      <td>...</td>\n",
       "      <td>...</td>\n",
       "      <td>...</td>\n",
       "    </tr>\n",
       "    <tr>\n",
       "      <th>56882</th>\n",
       "      <td>2018-01-03</td>\n",
       "      <td>DL</td>\n",
       "      <td>2742</td>\n",
       "      <td>ATL</td>\n",
       "      <td>FAY</td>\n",
       "      <td>2029</td>\n",
       "      <td>2049.0</td>\n",
       "      <td>20.0</td>\n",
       "      <td>16.0</td>\n",
       "      <td>2105.0</td>\n",
       "      <td>1243.0</td>\n",
       "      <td>6.0</td>\n",
       "      <td>2144</td>\n",
       "      <td>1249.0</td>\n",
       "      <td>NaN</td>\n",
       "      <td>0.0</td>\n",
       "      <td>NaN</td>\n",
       "      <td>1.0</td>\n",
       "      <td>75.0</td>\n",
       "      <td>NaN</td>\n",
       "      <td>NaN</td>\n",
       "      <td>331.0</td>\n",
       "      <td>NaN</td>\n",
       "      <td>NaN</td>\n",
       "      <td>NaN</td>\n",
       "      <td>NaN</td>\n",
       "      <td>NaN</td>\n",
       "      <td>NaN</td>\n",
       "    </tr>\n",
       "    <tr>\n",
       "      <th>57542</th>\n",
       "      <td>2018-01-04</td>\n",
       "      <td>B6</td>\n",
       "      <td>16</td>\n",
       "      <td>SFO</td>\n",
       "      <td>JFK</td>\n",
       "      <td>700</td>\n",
       "      <td>656.0</td>\n",
       "      <td>-4.0</td>\n",
       "      <td>19.0</td>\n",
       "      <td>715.0</td>\n",
       "      <td>NaN</td>\n",
       "      <td>NaN</td>\n",
       "      <td>1525</td>\n",
       "      <td>NaN</td>\n",
       "      <td>NaN</td>\n",
       "      <td>0.0</td>\n",
       "      <td>NaN</td>\n",
       "      <td>1.0</td>\n",
       "      <td>325.0</td>\n",
       "      <td>NaN</td>\n",
       "      <td>NaN</td>\n",
       "      <td>2586.0</td>\n",
       "      <td>NaN</td>\n",
       "      <td>NaN</td>\n",
       "      <td>NaN</td>\n",
       "      <td>NaN</td>\n",
       "      <td>NaN</td>\n",
       "      <td>NaN</td>\n",
       "    </tr>\n",
       "    <tr>\n",
       "      <th>57548</th>\n",
       "      <td>2018-01-04</td>\n",
       "      <td>B6</td>\n",
       "      <td>24</td>\n",
       "      <td>LAX</td>\n",
       "      <td>JFK</td>\n",
       "      <td>600</td>\n",
       "      <td>550.0</td>\n",
       "      <td>-10.0</td>\n",
       "      <td>30.0</td>\n",
       "      <td>620.0</td>\n",
       "      <td>NaN</td>\n",
       "      <td>NaN</td>\n",
       "      <td>1415</td>\n",
       "      <td>NaN</td>\n",
       "      <td>NaN</td>\n",
       "      <td>0.0</td>\n",
       "      <td>NaN</td>\n",
       "      <td>1.0</td>\n",
       "      <td>315.0</td>\n",
       "      <td>NaN</td>\n",
       "      <td>NaN</td>\n",
       "      <td>2475.0</td>\n",
       "      <td>NaN</td>\n",
       "      <td>NaN</td>\n",
       "      <td>NaN</td>\n",
       "      <td>NaN</td>\n",
       "      <td>NaN</td>\n",
       "      <td>NaN</td>\n",
       "    </tr>\n",
       "    <tr>\n",
       "      <th>57560</th>\n",
       "      <td>2018-01-04</td>\n",
       "      <td>B6</td>\n",
       "      <td>54</td>\n",
       "      <td>PBI</td>\n",
       "      <td>JFK</td>\n",
       "      <td>700</td>\n",
       "      <td>653.0</td>\n",
       "      <td>-7.0</td>\n",
       "      <td>14.0</td>\n",
       "      <td>707.0</td>\n",
       "      <td>NaN</td>\n",
       "      <td>NaN</td>\n",
       "      <td>939</td>\n",
       "      <td>NaN</td>\n",
       "      <td>NaN</td>\n",
       "      <td>0.0</td>\n",
       "      <td>NaN</td>\n",
       "      <td>1.0</td>\n",
       "      <td>159.0</td>\n",
       "      <td>NaN</td>\n",
       "      <td>NaN</td>\n",
       "      <td>1028.0</td>\n",
       "      <td>NaN</td>\n",
       "      <td>NaN</td>\n",
       "      <td>NaN</td>\n",
       "      <td>NaN</td>\n",
       "      <td>NaN</td>\n",
       "      <td>NaN</td>\n",
       "    </tr>\n",
       "    <tr>\n",
       "      <th>57581</th>\n",
       "      <td>2018-01-04</td>\n",
       "      <td>B6</td>\n",
       "      <td>100</td>\n",
       "      <td>LAX</td>\n",
       "      <td>FLL</td>\n",
       "      <td>2114</td>\n",
       "      <td>2107.0</td>\n",
       "      <td>-7.0</td>\n",
       "      <td>14.0</td>\n",
       "      <td>2121.0</td>\n",
       "      <td>635.0</td>\n",
       "      <td>9.0</td>\n",
       "      <td>501</td>\n",
       "      <td>644.0</td>\n",
       "      <td>NaN</td>\n",
       "      <td>0.0</td>\n",
       "      <td>NaN</td>\n",
       "      <td>1.0</td>\n",
       "      <td>287.0</td>\n",
       "      <td>NaN</td>\n",
       "      <td>NaN</td>\n",
       "      <td>2343.0</td>\n",
       "      <td>NaN</td>\n",
       "      <td>NaN</td>\n",
       "      <td>NaN</td>\n",
       "      <td>NaN</td>\n",
       "      <td>NaN</td>\n",
       "      <td>NaN</td>\n",
       "    </tr>\n",
       "  </tbody>\n",
       "</table>\n",
       "<p>100 rows × 28 columns</p>\n",
       "</div>"
      ],
      "text/plain": [
       "          FL_DATE OP_CARRIER  OP_CARRIER_FL_NUM ORIGIN DEST  CRS_DEP_TIME  \\\n",
       "1168   2018-01-01         UA                555    SFO  SAN           729   \n",
       "1638   2018-01-01         AS                 64    PSG  WRG          1514   \n",
       "1643   2018-01-01         AS                 65    KTN  WRG           925   \n",
       "1683   2018-01-01         AS                120    SEA  SAN           550   \n",
       "1850   2018-01-01         AS                512    SEA  SAN           725   \n",
       "...           ...        ...                ...    ...  ...           ...   \n",
       "56882  2018-01-03         DL               2742    ATL  FAY          2029   \n",
       "57542  2018-01-04         B6                 16    SFO  JFK           700   \n",
       "57548  2018-01-04         B6                 24    LAX  JFK           600   \n",
       "57560  2018-01-04         B6                 54    PBI  JFK           700   \n",
       "57581  2018-01-04         B6                100    LAX  FLL          2114   \n",
       "\n",
       "       DEP_TIME  DEP_DELAY  TAXI_OUT  WHEELS_OFF  WHEELS_ON  TAXI_IN  \\\n",
       "1168      718.0      -11.0      17.0       735.0     1124.0      3.0   \n",
       "1638     1626.0       72.0      20.0      1646.0        NaN      NaN   \n",
       "1643      918.0       -7.0      26.0       944.0        NaN      NaN   \n",
       "1683      544.0       -6.0      18.0       602.0     1046.0      3.0   \n",
       "1850      722.0       -3.0      16.0       738.0     1216.0      3.0   \n",
       "...         ...        ...       ...         ...        ...      ...   \n",
       "56882    2049.0       20.0      16.0      2105.0     1243.0      6.0   \n",
       "57542     656.0       -4.0      19.0       715.0        NaN      NaN   \n",
       "57548     550.0      -10.0      30.0       620.0        NaN      NaN   \n",
       "57560     653.0       -7.0      14.0       707.0        NaN      NaN   \n",
       "57581    2107.0       -7.0      14.0      2121.0      635.0      9.0   \n",
       "\n",
       "       CRS_ARR_TIME  ARR_TIME  ARR_DELAY  CANCELLED CANCELLATION_CODE  \\\n",
       "1168            903    1127.0        NaN        0.0               NaN   \n",
       "1638           1538       NaN        NaN        0.0               NaN   \n",
       "1643           1011       NaN        NaN        0.0               NaN   \n",
       "1683            840    1049.0        NaN        0.0               NaN   \n",
       "1850           1017    1219.0        NaN        0.0               NaN   \n",
       "...             ...       ...        ...        ...               ...   \n",
       "56882          2144    1249.0        NaN        0.0               NaN   \n",
       "57542          1525       NaN        NaN        0.0               NaN   \n",
       "57548          1415       NaN        NaN        0.0               NaN   \n",
       "57560           939       NaN        NaN        0.0               NaN   \n",
       "57581           501     644.0        NaN        0.0               NaN   \n",
       "\n",
       "       DIVERTED  CRS_ELAPSED_TIME  ACTUAL_ELAPSED_TIME  AIR_TIME  DISTANCE  \\\n",
       "1168        1.0              94.0                  NaN       NaN     447.0   \n",
       "1638        1.0              24.0                  NaN       NaN      31.0   \n",
       "1643        1.0              46.0                  NaN       NaN      82.0   \n",
       "1683        1.0             170.0                  NaN       NaN    1050.0   \n",
       "1850        1.0             172.0                  NaN       NaN    1050.0   \n",
       "...         ...               ...                  ...       ...       ...   \n",
       "56882       1.0              75.0                  NaN       NaN     331.0   \n",
       "57542       1.0             325.0                  NaN       NaN    2586.0   \n",
       "57548       1.0             315.0                  NaN       NaN    2475.0   \n",
       "57560       1.0             159.0                  NaN       NaN    1028.0   \n",
       "57581       1.0             287.0                  NaN       NaN    2343.0   \n",
       "\n",
       "       CARRIER_DELAY  WEATHER_DELAY  NAS_DELAY  SECURITY_DELAY  \\\n",
       "1168             NaN            NaN        NaN             NaN   \n",
       "1638             NaN            NaN        NaN             NaN   \n",
       "1643             NaN            NaN        NaN             NaN   \n",
       "1683             NaN            NaN        NaN             NaN   \n",
       "1850             NaN            NaN        NaN             NaN   \n",
       "...              ...            ...        ...             ...   \n",
       "56882            NaN            NaN        NaN             NaN   \n",
       "57542            NaN            NaN        NaN             NaN   \n",
       "57548            NaN            NaN        NaN             NaN   \n",
       "57560            NaN            NaN        NaN             NaN   \n",
       "57581            NaN            NaN        NaN             NaN   \n",
       "\n",
       "       LATE_AIRCRAFT_DELAY  Unnamed: 27  \n",
       "1168                   NaN          NaN  \n",
       "1638                   NaN          NaN  \n",
       "1643                   NaN          NaN  \n",
       "1683                   NaN          NaN  \n",
       "1850                   NaN          NaN  \n",
       "...                    ...          ...  \n",
       "56882                  NaN          NaN  \n",
       "57542                  NaN          NaN  \n",
       "57548                  NaN          NaN  \n",
       "57560                  NaN          NaN  \n",
       "57581                  NaN          NaN  \n",
       "\n",
       "[100 rows x 28 columns]"
      ]
     },
     "execution_count": 45,
     "metadata": {},
     "output_type": "execute_result"
    }
   ],
   "source": [
    "# ni pincha no corta. Me olvido\n",
    "df[df.DIVERTED > 0].head()"
   ]
  },
  {
   "cell_type": "code",
   "execution_count": 49,
   "id": "a95e1c9e",
   "metadata": {},
   "outputs": [
    {
     "data": {
      "text/html": [
       "<div>\n",
       "<style scoped>\n",
       "    .dataframe tbody tr th:only-of-type {\n",
       "        vertical-align: middle;\n",
       "    }\n",
       "\n",
       "    .dataframe tbody tr th {\n",
       "        vertical-align: top;\n",
       "    }\n",
       "\n",
       "    .dataframe thead th {\n",
       "        text-align: right;\n",
       "    }\n",
       "</style>\n",
       "<table border=\"1\" class=\"dataframe\">\n",
       "  <thead>\n",
       "    <tr style=\"text-align: right;\">\n",
       "      <th></th>\n",
       "      <th>FL_DATE</th>\n",
       "      <th>DEP_DELAY</th>\n",
       "      <th>ARR_DELAY</th>\n",
       "      <th>CARRIER_DELAY</th>\n",
       "      <th>WEATHER_DELAY</th>\n",
       "      <th>NAS_DELAY</th>\n",
       "      <th>SECURITY_DELAY</th>\n",
       "      <th>LATE_AIRCRAFT_DELAY</th>\n",
       "      <th>CANCELLED</th>\n",
       "      <th>DIVERTED</th>\n",
       "    </tr>\n",
       "  </thead>\n",
       "  <tbody>\n",
       "    <tr>\n",
       "      <th>0</th>\n",
       "      <td>2018-01-01</td>\n",
       "      <td>-5.0</td>\n",
       "      <td>-23.0</td>\n",
       "      <td>NaN</td>\n",
       "      <td>NaN</td>\n",
       "      <td>NaN</td>\n",
       "      <td>NaN</td>\n",
       "      <td>NaN</td>\n",
       "      <td>0.0</td>\n",
       "      <td>0.0</td>\n",
       "    </tr>\n",
       "    <tr>\n",
       "      <th>1</th>\n",
       "      <td>2018-01-01</td>\n",
       "      <td>-8.0</td>\n",
       "      <td>-24.0</td>\n",
       "      <td>NaN</td>\n",
       "      <td>NaN</td>\n",
       "      <td>NaN</td>\n",
       "      <td>NaN</td>\n",
       "      <td>NaN</td>\n",
       "      <td>0.0</td>\n",
       "      <td>0.0</td>\n",
       "    </tr>\n",
       "    <tr>\n",
       "      <th>2</th>\n",
       "      <td>2018-01-01</td>\n",
       "      <td>-5.0</td>\n",
       "      <td>-13.0</td>\n",
       "      <td>NaN</td>\n",
       "      <td>NaN</td>\n",
       "      <td>NaN</td>\n",
       "      <td>NaN</td>\n",
       "      <td>NaN</td>\n",
       "      <td>0.0</td>\n",
       "      <td>0.0</td>\n",
       "    </tr>\n",
       "    <tr>\n",
       "      <th>3</th>\n",
       "      <td>2018-01-01</td>\n",
       "      <td>6.0</td>\n",
       "      <td>-2.0</td>\n",
       "      <td>NaN</td>\n",
       "      <td>NaN</td>\n",
       "      <td>NaN</td>\n",
       "      <td>NaN</td>\n",
       "      <td>NaN</td>\n",
       "      <td>0.0</td>\n",
       "      <td>0.0</td>\n",
       "    </tr>\n",
       "    <tr>\n",
       "      <th>4</th>\n",
       "      <td>2018-01-01</td>\n",
       "      <td>20.0</td>\n",
       "      <td>14.0</td>\n",
       "      <td>NaN</td>\n",
       "      <td>NaN</td>\n",
       "      <td>NaN</td>\n",
       "      <td>NaN</td>\n",
       "      <td>NaN</td>\n",
       "      <td>0.0</td>\n",
       "      <td>0.0</td>\n",
       "    </tr>\n",
       "  </tbody>\n",
       "</table>\n",
       "</div>"
      ],
      "text/plain": [
       "      FL_DATE  DEP_DELAY  ARR_DELAY  CARRIER_DELAY  WEATHER_DELAY  NAS_DELAY  \\\n",
       "0  2018-01-01       -5.0      -23.0            NaN            NaN        NaN   \n",
       "1  2018-01-01       -8.0      -24.0            NaN            NaN        NaN   \n",
       "2  2018-01-01       -5.0      -13.0            NaN            NaN        NaN   \n",
       "3  2018-01-01        6.0       -2.0            NaN            NaN        NaN   \n",
       "4  2018-01-01       20.0       14.0            NaN            NaN        NaN   \n",
       "\n",
       "   SECURITY_DELAY  LATE_AIRCRAFT_DELAY  CANCELLED  DIVERTED  \n",
       "0             NaN                  NaN        0.0       0.0  \n",
       "1             NaN                  NaN        0.0       0.0  \n",
       "2             NaN                  NaN        0.0       0.0  \n",
       "3             NaN                  NaN        0.0       0.0  \n",
       "4             NaN                  NaN        0.0       0.0  "
      ]
     },
     "execution_count": 49,
     "metadata": {},
     "output_type": "execute_result"
    }
   ],
   "source": [
    "df[['FL_DATE', 'DEP_DELAY', 'ARR_DELAY', 'CARRIER_DELAY', 'WEATHER_DELAY', 'NAS_DELAY', 'SECURITY_DELAY', 'LATE_AIRCRAFT_DELAY', 'CANCELLED', 'DIVERTED']].head()"
   ]
  },
  {
   "cell_type": "code",
   "execution_count": 7,
   "id": "0c8ff4ab",
   "metadata": {},
   "outputs": [
    {
     "data": {
      "text/plain": [
       "(7096212, 28)"
      ]
     },
     "execution_count": 7,
     "metadata": {},
     "output_type": "execute_result"
    }
   ],
   "source": [
    "# Nos quedamos solo con las demoras al partir > 0\n",
    "#df_dep_delay = df[df['DEP_DELAY']>0]\n",
    "\n",
    "# O seguimos con el mismo dataset que teníamos pero haciendo una copia\n",
    "df_dep_delay = df.copy()\n",
    "df_dep_delay.shape"
   ]
  },
  {
   "cell_type": "code",
   "execution_count": 8,
   "id": "5a9e81cb",
   "metadata": {},
   "outputs": [
    {
     "data": {
      "text/html": [
       "<div>\n",
       "<style scoped>\n",
       "    .dataframe tbody tr th:only-of-type {\n",
       "        vertical-align: middle;\n",
       "    }\n",
       "\n",
       "    .dataframe tbody tr th {\n",
       "        vertical-align: top;\n",
       "    }\n",
       "\n",
       "    .dataframe thead th {\n",
       "        text-align: right;\n",
       "    }\n",
       "</style>\n",
       "<table border=\"1\" class=\"dataframe\">\n",
       "  <thead>\n",
       "    <tr style=\"text-align: right;\">\n",
       "      <th></th>\n",
       "      <th>ORIGIN</th>\n",
       "      <th>FL_DATE</th>\n",
       "      <th>MEAN_DEP_DELAY</th>\n",
       "    </tr>\n",
       "  </thead>\n",
       "  <tbody>\n",
       "    <tr>\n",
       "      <th>0</th>\n",
       "      <td>ABE</td>\n",
       "      <td>2018-01-01</td>\n",
       "      <td>7.833333</td>\n",
       "    </tr>\n",
       "    <tr>\n",
       "      <th>1</th>\n",
       "      <td>ABE</td>\n",
       "      <td>2018-01-02</td>\n",
       "      <td>77.375000</td>\n",
       "    </tr>\n",
       "    <tr>\n",
       "      <th>2</th>\n",
       "      <td>ABE</td>\n",
       "      <td>2018-01-03</td>\n",
       "      <td>51.333333</td>\n",
       "    </tr>\n",
       "    <tr>\n",
       "      <th>3</th>\n",
       "      <td>ABE</td>\n",
       "      <td>2018-01-04</td>\n",
       "      <td>30.125000</td>\n",
       "    </tr>\n",
       "    <tr>\n",
       "      <th>4</th>\n",
       "      <td>ABE</td>\n",
       "      <td>2018-01-05</td>\n",
       "      <td>17.375000</td>\n",
       "    </tr>\n",
       "    <tr>\n",
       "      <th>...</th>\n",
       "      <td>...</td>\n",
       "      <td>...</td>\n",
       "      <td>...</td>\n",
       "    </tr>\n",
       "    <tr>\n",
       "      <th>121460</th>\n",
       "      <td>YUM</td>\n",
       "      <td>2018-12-27</td>\n",
       "      <td>4.250000</td>\n",
       "    </tr>\n",
       "    <tr>\n",
       "      <th>121461</th>\n",
       "      <td>YUM</td>\n",
       "      <td>2018-12-28</td>\n",
       "      <td>2.250000</td>\n",
       "    </tr>\n",
       "    <tr>\n",
       "      <th>121462</th>\n",
       "      <td>YUM</td>\n",
       "      <td>2018-12-29</td>\n",
       "      <td>3.500000</td>\n",
       "    </tr>\n",
       "    <tr>\n",
       "      <th>121463</th>\n",
       "      <td>YUM</td>\n",
       "      <td>2018-12-30</td>\n",
       "      <td>3.750000</td>\n",
       "    </tr>\n",
       "    <tr>\n",
       "      <th>121464</th>\n",
       "      <td>YUM</td>\n",
       "      <td>2018-12-31</td>\n",
       "      <td>21.000000</td>\n",
       "    </tr>\n",
       "  </tbody>\n",
       "</table>\n",
       "<p>121465 rows × 3 columns</p>\n",
       "</div>"
      ],
      "text/plain": [
       "       ORIGIN     FL_DATE  MEAN_DEP_DELAY\n",
       "0         ABE  2018-01-01        7.833333\n",
       "1         ABE  2018-01-02       77.375000\n",
       "2         ABE  2018-01-03       51.333333\n",
       "3         ABE  2018-01-04       30.125000\n",
       "4         ABE  2018-01-05       17.375000\n",
       "...       ...         ...             ...\n",
       "121460    YUM  2018-12-27        4.250000\n",
       "121461    YUM  2018-12-28        2.250000\n",
       "121462    YUM  2018-12-29        3.500000\n",
       "121463    YUM  2018-12-30        3.750000\n",
       "121464    YUM  2018-12-31       21.000000\n",
       "\n",
       "[121465 rows x 3 columns]"
      ]
     },
     "execution_count": 8,
     "metadata": {},
     "output_type": "execute_result"
    }
   ],
   "source": [
    "# calculamos promedio de demora de partida por origen y dia (opcion 1)\n",
    "#df_mean_dep_delay = df_dep_delay.groupby([\"ORIGIN\", \"FL_DATE\"])[[\"DEP_DELAY\"]]\\\n",
    "#    .mean().sort_values(by='DEP_DELAY',ascending=False)\n",
    "\n",
    "# calculamos promedio de demora de partida por origen y dia (opcion 2)\n",
    "df_mean_dep_delay = df_dep_delay.groupby([\"ORIGIN\", \"FL_DATE\"])\\\n",
    "    .agg(MEAN_DEP_DELAY=('DEP_DELAY', 'mean'))\\\n",
    "    .reset_index()\n",
    "    #.sort_values(by='MEAN_DEP_DELAY', ascending=False)\\\n",
    "    \n",
    "\n",
    "# Top 10 promedios\n",
    "#df_mean_dep_delay = df_dep_delay.groupby([\"ORIGIN\", \"FL_DATE\"])[[\"DEP_DELAY\"]]\\\n",
    "#    .mean().sort_values(by='DEP_DELAY',ascending=False)[:10]\n",
    "    \n",
    "#df_mean_dep_delay = df_mean_dep_delay.reset_index()\n",
    "#df_mean_dep_delay.reset_index(inplace=True)\n",
    "#df_mean_dep_delay['ORIGIN'].isnull().sum()\n",
    "\n",
    "df_mean_dep_delay"
   ]
  },
  {
   "cell_type": "code",
   "execution_count": 9,
   "id": "1330adf4",
   "metadata": {},
   "outputs": [],
   "source": [
    "%matplotlib inline\n",
    "import matplotlib.pyplot as plt\n",
    "\n",
    "# runtime configuration (rc) containing the default styles for every plot element\n",
    "plt.rcParams['figure.figsize']=(16,6) "
   ]
  },
  {
   "cell_type": "markdown",
   "id": "a114d8c5",
   "metadata": {},
   "source": [
    "## Analizamos el ORIGIN = JFK"
   ]
  },
  {
   "cell_type": "code",
   "execution_count": 10,
   "id": "0e151075",
   "metadata": {},
   "outputs": [
    {
     "data": {
      "text/html": [
       "<div>\n",
       "<style scoped>\n",
       "    .dataframe tbody tr th:only-of-type {\n",
       "        vertical-align: middle;\n",
       "    }\n",
       "\n",
       "    .dataframe tbody tr th {\n",
       "        vertical-align: top;\n",
       "    }\n",
       "\n",
       "    .dataframe thead th {\n",
       "        text-align: right;\n",
       "    }\n",
       "</style>\n",
       "<table border=\"1\" class=\"dataframe\">\n",
       "  <thead>\n",
       "    <tr style=\"text-align: right;\">\n",
       "      <th></th>\n",
       "      <th>ORIGIN</th>\n",
       "      <th>FL_DATE</th>\n",
       "      <th>MEAN_DEP_DELAY</th>\n",
       "    </tr>\n",
       "  </thead>\n",
       "  <tbody>\n",
       "    <tr>\n",
       "      <th>59906</th>\n",
       "      <td>JFK</td>\n",
       "      <td>2018-01-01</td>\n",
       "      <td>18.311475</td>\n",
       "    </tr>\n",
       "    <tr>\n",
       "      <th>59907</th>\n",
       "      <td>JFK</td>\n",
       "      <td>2018-01-02</td>\n",
       "      <td>18.047478</td>\n",
       "    </tr>\n",
       "    <tr>\n",
       "      <th>59908</th>\n",
       "      <td>JFK</td>\n",
       "      <td>2018-01-03</td>\n",
       "      <td>10.893548</td>\n",
       "    </tr>\n",
       "    <tr>\n",
       "      <th>59909</th>\n",
       "      <td>JFK</td>\n",
       "      <td>2018-01-04</td>\n",
       "      <td>71.066667</td>\n",
       "    </tr>\n",
       "    <tr>\n",
       "      <th>59910</th>\n",
       "      <td>JFK</td>\n",
       "      <td>2018-01-05</td>\n",
       "      <td>154.356164</td>\n",
       "    </tr>\n",
       "    <tr>\n",
       "      <th>...</th>\n",
       "      <td>...</td>\n",
       "      <td>...</td>\n",
       "      <td>...</td>\n",
       "    </tr>\n",
       "    <tr>\n",
       "      <th>60266</th>\n",
       "      <td>JFK</td>\n",
       "      <td>2018-12-27</td>\n",
       "      <td>4.470430</td>\n",
       "    </tr>\n",
       "    <tr>\n",
       "      <th>60267</th>\n",
       "      <td>JFK</td>\n",
       "      <td>2018-12-28</td>\n",
       "      <td>29.405914</td>\n",
       "    </tr>\n",
       "    <tr>\n",
       "      <th>60268</th>\n",
       "      <td>JFK</td>\n",
       "      <td>2018-12-29</td>\n",
       "      <td>13.348571</td>\n",
       "    </tr>\n",
       "    <tr>\n",
       "      <th>60269</th>\n",
       "      <td>JFK</td>\n",
       "      <td>2018-12-30</td>\n",
       "      <td>8.064171</td>\n",
       "    </tr>\n",
       "    <tr>\n",
       "      <th>60270</th>\n",
       "      <td>JFK</td>\n",
       "      <td>2018-12-31</td>\n",
       "      <td>1.945338</td>\n",
       "    </tr>\n",
       "  </tbody>\n",
       "</table>\n",
       "<p>365 rows × 3 columns</p>\n",
       "</div>"
      ],
      "text/plain": [
       "      ORIGIN     FL_DATE  MEAN_DEP_DELAY\n",
       "59906    JFK  2018-01-01       18.311475\n",
       "59907    JFK  2018-01-02       18.047478\n",
       "59908    JFK  2018-01-03       10.893548\n",
       "59909    JFK  2018-01-04       71.066667\n",
       "59910    JFK  2018-01-05      154.356164\n",
       "...      ...         ...             ...\n",
       "60266    JFK  2018-12-27        4.470430\n",
       "60267    JFK  2018-12-28       29.405914\n",
       "60268    JFK  2018-12-29       13.348571\n",
       "60269    JFK  2018-12-30        8.064171\n",
       "60270    JFK  2018-12-31        1.945338\n",
       "\n",
       "[365 rows x 3 columns]"
      ]
     },
     "execution_count": 10,
     "metadata": {},
     "output_type": "execute_result"
    }
   ],
   "source": [
    "data = df_mean_dep_delay[df_mean_dep_delay['ORIGIN']=='JFK']\n",
    "\n",
    "# Metodo mas rebuscado pero se muestra como alternativa\n",
    "# En la nueva columna 'select', marcamos con -1 los registros que no son 'JFK'\n",
    "#df_mean_dep_delay['select'] = df_mean_dep_delay['ORIGIN'].apply(lambda x: x.find('JFK'))\n",
    "#data = df_mean_dep_delay[df_mean_dep_delay['select'] != -1].drop('select', axis=1)\n",
    "\n",
    "data"
   ]
  },
  {
   "cell_type": "code",
   "execution_count": 11,
   "id": "c06c590b",
   "metadata": {},
   "outputs": [
    {
     "data": {
      "text/plain": [
       "array([[<AxesSubplot:title={'center':'MEAN_DEP_DELAY'}>]], dtype=object)"
      ]
     },
     "execution_count": 11,
     "metadata": {},
     "output_type": "execute_result"
    },
    {
     "data": {
      "image/png": "[encoded data removed]",
      "text/plain": [
       "<Figure size 1152x432 with 1 Axes>"
      ]
     },
     "metadata": {
      "needs_background": "light"
     },
     "output_type": "display_data"
    }
   ],
   "source": [
    "data.hist()"
   ]
  },
  {
   "cell_type": "code",
   "execution_count": 50,
   "id": "41a4738e",
   "metadata": {},
   "outputs": [
    {
     "data": {
      "text/plain": [
       "<AxesSubplot:xlabel='FL_DATE'>"
      ]
     },
     "execution_count": 50,
     "metadata": {},
     "output_type": "execute_result"
    },
    {
     "data": {
      "image/png": "[encoded data removed]",
      "text/plain": [
       "<Figure size 1152x432 with 1 Axes>"
      ]
     },
     "metadata": {
      "needs_background": "light"
     },
     "output_type": "display_data"
    }
   ],
   "source": [
    "data.plot(x='FL_DATE', y='MEAN_DEP_DELAY')"
   ]
  },
  {
   "cell_type": "code",
   "execution_count": 51,
   "id": "a79f1827",
   "metadata": {},
   "outputs": [
    {
     "data": {
      "text/plain": [
       "MEAN_DEP_DELAY    18.998573\n",
       "dtype: float64"
      ]
     },
     "execution_count": 51,
     "metadata": {},
     "output_type": "execute_result"
    }
   ],
   "source": [
    "# Desviación standard\n",
    "data.std()"
   ]
  },
  {
   "cell_type": "code",
   "execution_count": 61,
   "id": "13ed897b",
   "metadata": {},
   "outputs": [
    {
     "data": {
      "text/plain": [
       "<AxesSubplot:xlabel='FL_DATE'>"
      ]
     },
     "execution_count": 61,
     "metadata": {},
     "output_type": "execute_result"
    },
    {
     "data": {
      "image/png": "[encoded data removed]",
      "text/plain": [
       "<Figure size 1152x432 with 1 Axes>"
      ]
     },
     "metadata": {
      "needs_background": "light"
     },
     "output_type": "display_data"
    }
   ],
   "source": [
    "# Ventana temporal para el promedio y multiplo de sigma para definir upper and lower bounds\n",
    "wind = 60\n",
    "sigma = 2\n",
    "\n",
    "data['lower_bound'] = data['MEAN_DEP_DELAY'].rolling(window=wind)\\\n",
    "    .mean() - (sigma * data['MEAN_DEP_DELAY'].rolling(window=wind).std())\n",
    "\n",
    "data['upper_bound'] = data['MEAN_DEP_DELAY'].rolling(window=wind)\\\n",
    "    .mean() + (sigma * data['MEAN_DEP_DELAY'].rolling(window=wind).std())\n",
    "\n",
    "data.plot(x='FL_DATE', y='MEAN_DEP_DELAY')\n",
    "#data.plot()"
   ]
  },
  {
   "cell_type": "code",
   "execution_count": 97,
   "id": "0ba0a6cc",
   "metadata": {
    "collapsed": true
   },
   "outputs": [
    {
     "name": "stderr",
     "output_type": "stream",
     "text": [
      "/tmp/ipykernel_530676/17784725.py:1: SettingWithCopyWarning: \n",
      "A value is trying to be set on a copy of a slice from a DataFrame\n",
      "\n",
      "See the caveats in the documentation: https://pandas.pydata.org/pandas-docs/stable/user_guide/indexing.html#returning-a-view-versus-a-copy\n",
      "  data.drop('suelo', axis=1, inplace=True)\n"
     ]
    }
   ],
   "source": [
    "#data.drop('lower_bound', axis=1, inplace=True)"
   ]
  },
  {
   "cell_type": "code",
   "execution_count": 62,
   "id": "10013b48",
   "metadata": {},
   "outputs": [
    {
     "data": {
      "text/plain": [
       "<AxesSubplot:>"
      ]
     },
     "execution_count": 62,
     "metadata": {},
     "output_type": "execute_result"
    },
    {
     "data": {
      "image/png": "[encoded data removed]",
      "text/plain": [
       "<Figure size 1152x432 with 1 Axes>"
      ]
     },
     "metadata": {
      "needs_background": "light"
     },
     "output_type": "display_data"
    }
   ],
   "source": [
    "data[\"anomaly\"] = data.apply(lambda row: 1 if (row['MEAN_DEP_DELAY']>=row[\"upper_bound\"]) else 0, axis=1)\n",
    "data.plot()"
   ]
  },
  {
   "cell_type": "code",
   "execution_count": 63,
   "id": "144fd84a",
   "metadata": {},
   "outputs": [
    {
     "data": {
      "text/plain": [
       "ORIGIN            15\n",
       "FL_DATE           15\n",
       "MEAN_DEP_DELAY    15\n",
       "lower_bound       15\n",
       "upper_bound       15\n",
       "anomaly           15\n",
       "dtype: int64"
      ]
     },
     "execution_count": 63,
     "metadata": {},
     "output_type": "execute_result"
    }
   ],
   "source": [
    "data[data[\"anomaly\"]>0].count()"
   ]
  },
  {
   "cell_type": "code",
   "execution_count": 64,
   "id": "4e9e0b39",
   "metadata": {},
   "outputs": [
    {
     "name": "stdout",
     "output_type": "stream",
     "text": [
      "Total detected anomalies: 15\n"
     ]
    },
    {
     "data": {
      "text/html": [
       "<div>\n",
       "<style scoped>\n",
       "    .dataframe tbody tr th:only-of-type {\n",
       "        vertical-align: middle;\n",
       "    }\n",
       "\n",
       "    .dataframe tbody tr th {\n",
       "        vertical-align: top;\n",
       "    }\n",
       "\n",
       "    .dataframe thead th {\n",
       "        text-align: right;\n",
       "    }\n",
       "</style>\n",
       "<table border=\"1\" class=\"dataframe\">\n",
       "  <thead>\n",
       "    <tr style=\"text-align: right;\">\n",
       "      <th></th>\n",
       "      <th>ORIGIN</th>\n",
       "      <th>FL_DATE</th>\n",
       "      <th>MEAN_DEP_DELAY</th>\n",
       "      <th>lower_bound</th>\n",
       "      <th>upper_bound</th>\n",
       "      <th>anomaly</th>\n",
       "    </tr>\n",
       "  </thead>\n",
       "  <tbody>\n",
       "    <tr>\n",
       "      <th>60011</th>\n",
       "      <td>JFK</td>\n",
       "      <td>2018-04-16</td>\n",
       "      <td>89.207273</td>\n",
       "      <td>-17.369229</td>\n",
       "      <td>40.390346</td>\n",
       "      <td>1</td>\n",
       "    </tr>\n",
       "    <tr>\n",
       "      <th>60040</th>\n",
       "      <td>JFK</td>\n",
       "      <td>2018-05-15</td>\n",
       "      <td>68.961290</td>\n",
       "      <td>-20.663058</td>\n",
       "      <td>42.355868</td>\n",
       "      <td>1</td>\n",
       "    </tr>\n",
       "    <tr>\n",
       "      <th>60080</th>\n",
       "      <td>JFK</td>\n",
       "      <td>2018-06-24</td>\n",
       "      <td>56.687671</td>\n",
       "      <td>-14.896431</td>\n",
       "      <td>35.672569</td>\n",
       "      <td>1</td>\n",
       "    </tr>\n",
       "    <tr>\n",
       "      <th>60084</th>\n",
       "      <td>JFK</td>\n",
       "      <td>2018-06-28</td>\n",
       "      <td>56.978261</td>\n",
       "      <td>-16.259606</td>\n",
       "      <td>38.811921</td>\n",
       "      <td>1</td>\n",
       "    </tr>\n",
       "    <tr>\n",
       "      <th>60101</th>\n",
       "      <td>JFK</td>\n",
       "      <td>2018-07-15</td>\n",
       "      <td>75.128743</td>\n",
       "      <td>-15.536726</td>\n",
       "      <td>39.378521</td>\n",
       "      <td>1</td>\n",
       "    </tr>\n",
       "    <tr>\n",
       "      <th>60103</th>\n",
       "      <td>JFK</td>\n",
       "      <td>2018-07-17</td>\n",
       "      <td>68.751724</td>\n",
       "      <td>-18.162209</td>\n",
       "      <td>44.202395</td>\n",
       "      <td>1</td>\n",
       "    </tr>\n",
       "    <tr>\n",
       "      <th>60108</th>\n",
       "      <td>JFK</td>\n",
       "      <td>2018-07-22</td>\n",
       "      <td>47.687500</td>\n",
       "      <td>-18.528386</td>\n",
       "      <td>46.183755</td>\n",
       "      <td>1</td>\n",
       "    </tr>\n",
       "    <tr>\n",
       "      <th>60109</th>\n",
       "      <td>JFK</td>\n",
       "      <td>2018-07-23</td>\n",
       "      <td>49.711429</td>\n",
       "      <td>-19.200757</td>\n",
       "      <td>48.103613</td>\n",
       "      <td>1</td>\n",
       "    </tr>\n",
       "    <tr>\n",
       "      <th>60113</th>\n",
       "      <td>JFK</td>\n",
       "      <td>2018-07-27</td>\n",
       "      <td>56.128617</td>\n",
       "      <td>-18.944994</td>\n",
       "      <td>51.862345</td>\n",
       "      <td>1</td>\n",
       "    </tr>\n",
       "    <tr>\n",
       "      <th>60120</th>\n",
       "      <td>JFK</td>\n",
       "      <td>2018-08-03</td>\n",
       "      <td>59.673469</td>\n",
       "      <td>-19.625220</td>\n",
       "      <td>56.018406</td>\n",
       "      <td>1</td>\n",
       "    </tr>\n",
       "    <tr>\n",
       "      <th>60124</th>\n",
       "      <td>JFK</td>\n",
       "      <td>2018-08-07</td>\n",
       "      <td>65.168022</td>\n",
       "      <td>-18.987819</td>\n",
       "      <td>58.899753</td>\n",
       "      <td>1</td>\n",
       "    </tr>\n",
       "    <tr>\n",
       "      <th>60128</th>\n",
       "      <td>JFK</td>\n",
       "      <td>2018-08-11</td>\n",
       "      <td>97.305556</td>\n",
       "      <td>-21.097735</td>\n",
       "      <td>65.170556</td>\n",
       "      <td>1</td>\n",
       "    </tr>\n",
       "    <tr>\n",
       "      <th>60224</th>\n",
       "      <td>JFK</td>\n",
       "      <td>2018-11-15</td>\n",
       "      <td>105.932624</td>\n",
       "      <td>-22.962088</td>\n",
       "      <td>35.808553</td>\n",
       "      <td>1</td>\n",
       "    </tr>\n",
       "    <tr>\n",
       "      <th>60225</th>\n",
       "      <td>JFK</td>\n",
       "      <td>2018-11-16</td>\n",
       "      <td>75.764228</td>\n",
       "      <td>-26.725393</td>\n",
       "      <td>42.033297</td>\n",
       "      <td>1</td>\n",
       "    </tr>\n",
       "    <tr>\n",
       "      <th>60260</th>\n",
       "      <td>JFK</td>\n",
       "      <td>2018-12-21</td>\n",
       "      <td>62.225806</td>\n",
       "      <td>-28.803522</td>\n",
       "      <td>45.765066</td>\n",
       "      <td>1</td>\n",
       "    </tr>\n",
       "  </tbody>\n",
       "</table>\n",
       "</div>"
      ],
      "text/plain": [
       "      ORIGIN     FL_DATE  MEAN_DEP_DELAY  lower_bound  upper_bound  anomaly\n",
       "60011    JFK  2018-04-16       89.207273   -17.369229    40.390346        1\n",
       "60040    JFK  2018-05-15       68.961290   -20.663058    42.355868        1\n",
       "60080    JFK  2018-06-24       56.687671   -14.896431    35.672569        1\n",
       "60084    JFK  2018-06-28       56.978261   -16.259606    38.811921        1\n",
       "60101    JFK  2018-07-15       75.128743   -15.536726    39.378521        1\n",
       "60103    JFK  2018-07-17       68.751724   -18.162209    44.202395        1\n",
       "60108    JFK  2018-07-22       47.687500   -18.528386    46.183755        1\n",
       "60109    JFK  2018-07-23       49.711429   -19.200757    48.103613        1\n",
       "60113    JFK  2018-07-27       56.128617   -18.944994    51.862345        1\n",
       "60120    JFK  2018-08-03       59.673469   -19.625220    56.018406        1\n",
       "60124    JFK  2018-08-07       65.168022   -18.987819    58.899753        1\n",
       "60128    JFK  2018-08-11       97.305556   -21.097735    65.170556        1\n",
       "60224    JFK  2018-11-15      105.932624   -22.962088    35.808553        1\n",
       "60225    JFK  2018-11-16       75.764228   -26.725393    42.033297        1\n",
       "60260    JFK  2018-12-21       62.225806   -28.803522    45.765066        1"
      ]
     },
     "execution_count": 64,
     "metadata": {},
     "output_type": "execute_result"
    }
   ],
   "source": [
    "print(\"Total detected anomalies: {}\".format(data[data[\"anomaly\"]>0].shape[0])) \n",
    "data[data[\"anomaly\"]>0].head(20)"
   ]
  }
 ],
 "metadata": {
  "kernelspec": {
   "display_name": "Python 3 (ipykernel)",
   "language": "python",
   "name": "python3"
  },
  "language_info": {
   "codemirror_mode": {
    "name": "ipython",
    "version": 3
   },
   "file_extension": ".py",
   "mimetype": "text/x-python",
   "name": "python",
   "nbconvert_exporter": "python",
   "pygments_lexer": "ipython3",
   "version": "3.9.7"
  }
 },
 "nbformat": 4,
 "nbformat_minor": 5
}
